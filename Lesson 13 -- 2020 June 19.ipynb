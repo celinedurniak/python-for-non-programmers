{
 "cells": [
  {
   "cell_type": "markdown",
   "metadata": {},
   "source": [
    "\n",
    "- Write a function, maxnum, that takes a single argument, a list of numbers. It returns the largest number in that list. (Do not use the built-in max function to do this!)\n",
    "- Write a function, lastword, that takes a list of words. It returns the word in that list that occurs last, alphabetically.\n",
    "- Write a function, charcount, that takes a string and returns a dict. The dict’s keys will be all of the different characters that occur in the string, and its values will be the number of times that each character appeared.\n"
   ]
  },
  {
   "cell_type": "code",
   "execution_count": null,
   "metadata": {},
   "outputs": [],
   "source": []
  }
 ],
 "metadata": {
  "kernelspec": {
   "display_name": "Python 3",
   "language": "python",
   "name": "python3"
  },
  "language_info": {
   "codemirror_mode": {
    "name": "ipython",
    "version": 3
   },
   "file_extension": ".py",
   "mimetype": "text/x-python",
   "name": "python",
   "nbconvert_exporter": "python",
   "pygments_lexer": "ipython3",
   "version": "3.8.3"
  }
 },
 "nbformat": 4,
 "nbformat_minor": 4
}
