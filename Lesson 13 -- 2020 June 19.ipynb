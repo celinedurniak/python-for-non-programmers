{
 "cells": [
  {
   "cell_type": "markdown",
   "metadata": {},
   "source": [
    "# Exercises\n",
    "\n",
    "- Write a function, maxnum, that takes a single argument, a list of numbers. It returns the largest number in that list. (Do not use the built-in max function to do this!)"
   ]
  },
  {
   "cell_type": "code",
   "execution_count": 3,
   "metadata": {},
   "outputs": [
    {
     "name": "stdout",
     "output_type": "stream",
     "text": [
      "30\n"
     ]
    }
   ],
   "source": [
    "def maxnum(numbers):\n",
    "    \"\"\"\n",
    "    Returns the largest number in a sequence of numbers.\n",
    "    \n",
    "    If the sequence is empty, you'll get an error.\n",
    "\"\"\"\n",
    "    if len(numbers) == 0:\n",
    "        return None\n",
    "    \n",
    "    output = numbers[0]\n",
    "    \n",
    "    for one_number in numbers[1:]:\n",
    "        if one_number > output:\n",
    "            output = one_number\n",
    "    \n",
    "    return output\n",
    "\n",
    "print(maxnum([10, 20, 30]))"
   ]
  },
  {
   "cell_type": "code",
   "execution_count": 4,
   "metadata": {},
   "outputs": [
    {
     "name": "stdout",
     "output_type": "stream",
     "text": [
      "None\n"
     ]
    }
   ],
   "source": [
    "print(maxnum([]))"
   ]
  },
  {
   "cell_type": "markdown",
   "metadata": {},
   "source": [
    "- Write a function, lastword, that takes a list of words. It returns the word in that list that occurs last, alphabetically."
   ]
  },
  {
   "cell_type": "code",
   "execution_count": 5,
   "metadata": {},
   "outputs": [
    {
     "data": {
      "text/plain": [
       "True"
      ]
     },
     "execution_count": 5,
     "metadata": {},
     "output_type": "execute_result"
    }
   ],
   "source": [
    "'apple' < 'banana'"
   ]
  },
  {
   "cell_type": "code",
   "execution_count": 6,
   "metadata": {},
   "outputs": [
    {
     "data": {
      "text/plain": [
       "True"
      ]
     },
     "execution_count": 6,
     "metadata": {},
     "output_type": "execute_result"
    }
   ],
   "source": [
    "'banana' < 'mango'"
   ]
  },
  {
   "cell_type": "code",
   "execution_count": 7,
   "metadata": {},
   "outputs": [
    {
     "data": {
      "text/plain": [
       "'this'"
      ]
     },
     "execution_count": 7,
     "metadata": {},
     "output_type": "execute_result"
    }
   ],
   "source": [
    "def lastword(wordlist):\n",
    "    if len(wordlist) == 0:\n",
    "        return None\n",
    "    \n",
    "    output = wordlist[0]\n",
    "    \n",
    "    for one_word in wordlist:\n",
    "        if one_word > output:\n",
    "            output = one_word\n",
    "    \n",
    "    return output\n",
    "\n",
    "lastword('this is a test of my function'.split())"
   ]
  },
  {
   "cell_type": "code",
   "execution_count": 8,
   "metadata": {},
   "outputs": [],
   "source": [
    "def lastitem(sequence):\n",
    "    if len(sequence) == 0:\n",
    "        return None\n",
    "    \n",
    "    output = sequence[0]\n",
    "    \n",
    "    for one_item in sequence:\n",
    "        if one_item > output:\n",
    "            output = one_item\n",
    "            \n",
    "    return output\n",
    "\n",
    "def maxnum(numbers):\n",
    "    return lastitem(numbers)\n",
    "\n",
    "def lastword(wordlist):\n",
    "    return lastitem(wordlist)"
   ]
  },
  {
   "cell_type": "code",
   "execution_count": 9,
   "metadata": {},
   "outputs": [
    {
     "data": {
      "text/plain": [
       "True"
      ]
     },
     "execution_count": 9,
     "metadata": {},
     "output_type": "execute_result"
    }
   ],
   "source": [
    "# original standard for characters -> numbers was called ASCII \n",
    "#  \"American standard code for information interchange\"\n",
    "\n",
    "# Unicode \n",
    "\n",
    "'Z' < 'z'"
   ]
  },
  {
   "cell_type": "code",
   "execution_count": 10,
   "metadata": {},
   "outputs": [
    {
     "data": {
      "text/plain": [
       "True"
      ]
     },
     "execution_count": 10,
     "metadata": {},
     "output_type": "execute_result"
    }
   ],
   "source": [
    "'Z' < 'a'"
   ]
  },
  {
   "cell_type": "code",
   "execution_count": 12,
   "metadata": {},
   "outputs": [
    {
     "data": {
      "text/plain": [
       "'a'"
      ]
     },
     "execution_count": 12,
     "metadata": {},
     "output_type": "execute_result"
    }
   ],
   "source": [
    "lastword('This Is a Test Of My System'.split())"
   ]
  },
  {
   "cell_type": "markdown",
   "metadata": {},
   "source": [
    "- Write a function, charcount, that takes a string and returns a dict. The dict’s keys will be all of the different characters that occur in the string, and its values will be the number of times that each character appeared."
   ]
  },
  {
   "cell_type": "code",
   "execution_count": 14,
   "metadata": {},
   "outputs": [
    {
     "data": {
      "text/plain": [
       "{'t': 4,\n",
       " 'h': 1,\n",
       " 'i': 3,\n",
       " 's': 3,\n",
       " ' ': 6,\n",
       " 'a': 1,\n",
       " 'e': 1,\n",
       " 'o': 2,\n",
       " 'f': 2,\n",
       " 'm': 1,\n",
       " 'y': 1,\n",
       " 'u': 1,\n",
       " 'n': 2,\n",
       " 'c': 1}"
      ]
     },
     "execution_count": 14,
     "metadata": {},
     "output_type": "execute_result"
    }
   ],
   "source": [
    "def charcount(s):\n",
    "    output = {}\n",
    "    \n",
    "    for one_character in s:\n",
    "        if one_character in output:   # is one_character a key in our dict?\n",
    "            output[one_character] += 1  # if so, then increment its count\n",
    "        else:\n",
    "            output[one_character] = 1  # if not, put it there with a count of 1\n",
    "    \n",
    "    return output\n",
    "\n",
    "charcount('this is a test of my function')"
   ]
  },
  {
   "cell_type": "code",
   "execution_count": null,
   "metadata": {},
   "outputs": [],
   "source": []
  }
 ],
 "metadata": {
  "kernelspec": {
   "display_name": "Python 3",
   "language": "python",
   "name": "python3"
  },
  "language_info": {
   "codemirror_mode": {
    "name": "ipython",
    "version": 3
   },
   "file_extension": ".py",
   "mimetype": "text/x-python",
   "name": "python",
   "nbconvert_exporter": "python",
   "pygments_lexer": "ipython3",
   "version": "3.8.3"
  }
 },
 "nbformat": 4,
 "nbformat_minor": 4
}
