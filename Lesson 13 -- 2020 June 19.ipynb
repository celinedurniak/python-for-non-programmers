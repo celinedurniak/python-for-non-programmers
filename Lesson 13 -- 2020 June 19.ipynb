{
 "cells": [
  {
   "cell_type": "markdown",
   "metadata": {},
   "source": [
    "# Exercises\n",
    "\n",
    "- Write a function, maxnum, that takes a single argument, a list of numbers. It returns the largest number in that list. (Do not use the built-in max function to do this!)"
   ]
  },
  {
   "cell_type": "code",
   "execution_count": 3,
   "metadata": {},
   "outputs": [
    {
     "name": "stdout",
     "output_type": "stream",
     "text": [
      "30\n"
     ]
    }
   ],
   "source": [
    "def maxnum(numbers):\n",
    "    \"\"\"\n",
    "    Returns the largest number in a sequence of numbers.\n",
    "    \n",
    "    If the sequence is empty, you'll get an error.\n",
    "\"\"\"\n",
    "    if len(numbers) == 0:\n",
    "        return None\n",
    "    \n",
    "    output = numbers[0]\n",
    "    \n",
    "    for one_number in numbers[1:]:\n",
    "        if one_number > output:\n",
    "            output = one_number\n",
    "    \n",
    "    return output\n",
    "\n",
    "print(maxnum([10, 20, 30]))"
   ]
  },
  {
   "cell_type": "code",
   "execution_count": 4,
   "metadata": {},
   "outputs": [
    {
     "name": "stdout",
     "output_type": "stream",
     "text": [
      "None\n"
     ]
    }
   ],
   "source": [
    "print(maxnum([]))"
   ]
  },
  {
   "cell_type": "markdown",
   "metadata": {},
   "source": [
    "- Write a function, lastword, that takes a list of words. It returns the word in that list that occurs last, alphabetically."
   ]
  },
  {
   "cell_type": "code",
   "execution_count": 5,
   "metadata": {},
   "outputs": [
    {
     "data": {
      "text/plain": [
       "True"
      ]
     },
     "execution_count": 5,
     "metadata": {},
     "output_type": "execute_result"
    }
   ],
   "source": [
    "'apple' < 'banana'"
   ]
  },
  {
   "cell_type": "code",
   "execution_count": 6,
   "metadata": {},
   "outputs": [
    {
     "data": {
      "text/plain": [
       "True"
      ]
     },
     "execution_count": 6,
     "metadata": {},
     "output_type": "execute_result"
    }
   ],
   "source": [
    "'banana' < 'mango'"
   ]
  },
  {
   "cell_type": "code",
   "execution_count": 7,
   "metadata": {},
   "outputs": [
    {
     "data": {
      "text/plain": [
       "'this'"
      ]
     },
     "execution_count": 7,
     "metadata": {},
     "output_type": "execute_result"
    }
   ],
   "source": [
    "def lastword(wordlist):\n",
    "    if len(wordlist) == 0:\n",
    "        return None\n",
    "    \n",
    "    output = wordlist[0]\n",
    "    \n",
    "    for one_word in wordlist:\n",
    "        if one_word > output:\n",
    "            output = one_word\n",
    "    \n",
    "    return output\n",
    "\n",
    "lastword('this is a test of my function'.split())"
   ]
  },
  {
   "cell_type": "code",
   "execution_count": 8,
   "metadata": {},
   "outputs": [],
   "source": [
    "def lastitem(sequence):\n",
    "    if len(sequence) == 0:\n",
    "        return None\n",
    "    \n",
    "    output = sequence[0]\n",
    "    \n",
    "    for one_item in sequence:\n",
    "        if one_item > output:\n",
    "            output = one_item\n",
    "            \n",
    "    return output\n",
    "\n",
    "def maxnum(numbers):\n",
    "    return lastitem(numbers)\n",
    "\n",
    "def lastword(wordlist):\n",
    "    return lastitem(wordlist)"
   ]
  },
  {
   "cell_type": "code",
   "execution_count": 9,
   "metadata": {},
   "outputs": [
    {
     "data": {
      "text/plain": [
       "True"
      ]
     },
     "execution_count": 9,
     "metadata": {},
     "output_type": "execute_result"
    }
   ],
   "source": [
    "# original standard for characters -> numbers was called ASCII \n",
    "#  \"American standard code for information interchange\"\n",
    "\n",
    "# Unicode \n",
    "\n",
    "'Z' < 'z'"
   ]
  },
  {
   "cell_type": "code",
   "execution_count": 10,
   "metadata": {},
   "outputs": [
    {
     "data": {
      "text/plain": [
       "True"
      ]
     },
     "execution_count": 10,
     "metadata": {},
     "output_type": "execute_result"
    }
   ],
   "source": [
    "'Z' < 'a'"
   ]
  },
  {
   "cell_type": "code",
   "execution_count": 12,
   "metadata": {},
   "outputs": [
    {
     "data": {
      "text/plain": [
       "'a'"
      ]
     },
     "execution_count": 12,
     "metadata": {},
     "output_type": "execute_result"
    }
   ],
   "source": [
    "lastword('This Is a Test Of My System'.split())"
   ]
  },
  {
   "cell_type": "markdown",
   "metadata": {},
   "source": [
    "- Write a function, charcount, that takes a string and returns a dict. The dict’s keys will be all of the different characters that occur in the string, and its values will be the number of times that each character appeared."
   ]
  },
  {
   "cell_type": "code",
   "execution_count": 14,
   "metadata": {},
   "outputs": [
    {
     "data": {
      "text/plain": [
       "{'t': 4,\n",
       " 'h': 1,\n",
       " 'i': 3,\n",
       " 's': 3,\n",
       " ' ': 6,\n",
       " 'a': 1,\n",
       " 'e': 1,\n",
       " 'o': 2,\n",
       " 'f': 2,\n",
       " 'm': 1,\n",
       " 'y': 1,\n",
       " 'u': 1,\n",
       " 'n': 2,\n",
       " 'c': 1}"
      ]
     },
     "execution_count": 14,
     "metadata": {},
     "output_type": "execute_result"
    }
   ],
   "source": [
    "def charcount(s):\n",
    "    output = {}\n",
    "    \n",
    "    for one_character in s:\n",
    "        if one_character in output:   # is one_character a key in our dict?\n",
    "            output[one_character] += 1  # if so, then increment its count\n",
    "        else:\n",
    "            output[one_character] = 1  # if not, put it there with a count of 1\n",
    "    \n",
    "    return output\n",
    "\n",
    "charcount('this is a test of my function')"
   ]
  },
  {
   "cell_type": "code",
   "execution_count": 15,
   "metadata": {},
   "outputs": [
    {
     "name": "stdout",
     "output_type": "stream",
     "text": [
      "alice-in-wonderland.txt  mini-access-log.txt  selected-nums.txt\r\n",
      "dict-counts.txt\t\t myfile.txt\t      shoe-data.txt\r\n",
      "even-nums.txt\t\t myoutput.txt\t      vowel_counts.txt\r\n",
      "ip-address-report.txt\t nums.txt\t      wcfile.txt\r\n",
      "linux-etc-passwd.txt\t odd-nums.txt\r\n"
     ]
    }
   ],
   "source": [
    "!ls *.txt"
   ]
  },
  {
   "cell_type": "code",
   "execution_count": 16,
   "metadata": {},
   "outputs": [
    {
     "data": {
      "text/plain": [
       "{'\\ufeff': 1,\n",
       " 'T': 241,\n",
       " 'h': 3122,\n",
       " 'e': 6671,\n",
       " ' ': 12387,\n",
       " 'P': 140,\n",
       " 'r': 3111,\n",
       " 'o': 4242,\n",
       " 'j': 129,\n",
       " 'c': 1435,\n",
       " 't': 5152,\n",
       " 'G': 122,\n",
       " 'u': 1634,\n",
       " 'n': 3530,\n",
       " 'b': 742,\n",
       " 'g': 1230,\n",
       " 'E': 187,\n",
       " 'B': 62,\n",
       " 'k': 509,\n",
       " 'f': 1061,\n",
       " 'A': 352,\n",
       " 'l': 2221,\n",
       " 'i': 3547,\n",
       " 'W': 103,\n",
       " 'd': 2245,\n",
       " 'a': 4058,\n",
       " ',': 927,\n",
       " 'y': 985,\n",
       " 'L': 90,\n",
       " 'w': 1165,\n",
       " 's': 3057,\n",
       " 'C': 100,\n",
       " '\\n': 1702,\n",
       " 'm': 1064,\n",
       " 'v': 389,\n",
       " '.': 621,\n",
       " 'Y': 58,\n",
       " 'p': 849,\n",
       " '-': 287,\n",
       " ':': 40,\n",
       " 'I': 375,\n",
       " 'R': 133,\n",
       " 'D': 120,\n",
       " '1': 64,\n",
       " '2': 10,\n",
       " '0': 24,\n",
       " '6': 9,\n",
       " '[': 27,\n",
       " '#': 1,\n",
       " '9': 15,\n",
       " '3': 21,\n",
       " ']': 27,\n",
       " '*': 33,\n",
       " 'S': 159,\n",
       " 'O': 116,\n",
       " 'F': 92,\n",
       " 'H': 92,\n",
       " 'J': 14,\n",
       " 'U': 53,\n",
       " 'N': 113,\n",
       " 'K': 42,\n",
       " '/': 31,\n",
       " '_': 150,\n",
       " '\"': 710,\n",
       " \"'\": 260,\n",
       " 'V': 20,\n",
       " 'M': 79,\n",
       " '&': 2,\n",
       " '?': 70,\n",
       " '(': 33,\n",
       " ')': 33,\n",
       " '!': 176,\n",
       " ';': 78,\n",
       " 'z': 34,\n",
       " 'x': 70,\n",
       " 'q': 62,\n",
       " 'ù': 1,\n",
       " 'Q': 34,\n",
       " 'X': 4,\n",
       " '8': 11,\n",
       " '7': 6,\n",
       " '4': 9,\n",
       " '5': 12,\n",
       " '%': 1,\n",
       " '@': 2,\n",
       " '$': 2}"
      ]
     },
     "execution_count": 16,
     "metadata": {},
     "output_type": "execute_result"
    }
   ],
   "source": [
    "charcount(open('alice-in-wonderland.txt').read())"
   ]
  },
  {
   "cell_type": "code",
   "execution_count": null,
   "metadata": {},
   "outputs": [],
   "source": []
  }
 ],
 "metadata": {
  "kernelspec": {
   "display_name": "Python 3",
   "language": "python",
   "name": "python3"
  },
  "language_info": {
   "codemirror_mode": {
    "name": "ipython",
    "version": 3
   },
   "file_extension": ".py",
   "mimetype": "text/x-python",
   "name": "python",
   "nbconvert_exporter": "python",
   "pygments_lexer": "ipython3",
   "version": "3.8.3"
  }
 },
 "nbformat": 4,
 "nbformat_minor": 4
}
