{
 "cells": [
  {
   "cell_type": "markdown",
   "metadata": {},
   "source": [
    "# Exercises\n",
    "\n",
    "- Write a function, maxnum, that takes a single argument, a list of numbers. It returns the largest number in that list. (Do not use the built-in max function to do this!)"
   ]
  },
  {
   "cell_type": "code",
   "execution_count": 3,
   "metadata": {},
   "outputs": [
    {
     "name": "stdout",
     "output_type": "stream",
     "text": [
      "30\n"
     ]
    }
   ],
   "source": [
    "def maxnum(numbers):\n",
    "    \"\"\"\n",
    "    Returns the largest number in a sequence of numbers.\n",
    "    \n",
    "    If the sequence is empty, you'll get an error.\n",
    "\"\"\"\n",
    "    if len(numbers) == 0:\n",
    "        return None\n",
    "    \n",
    "    output = numbers[0]\n",
    "    \n",
    "    for one_number in numbers[1:]:\n",
    "        if one_number > output:\n",
    "            output = one_number\n",
    "    \n",
    "    return output\n",
    "\n",
    "print(maxnum([10, 20, 30]))"
   ]
  },
  {
   "cell_type": "code",
   "execution_count": 4,
   "metadata": {},
   "outputs": [
    {
     "name": "stdout",
     "output_type": "stream",
     "text": [
      "None\n"
     ]
    }
   ],
   "source": [
    "print(maxnum([]))"
   ]
  },
  {
   "cell_type": "markdown",
   "metadata": {},
   "source": [
    "- Write a function, lastword, that takes a list of words. It returns the word in that list that occurs last, alphabetically."
   ]
  },
  {
   "cell_type": "code",
   "execution_count": 5,
   "metadata": {},
   "outputs": [
    {
     "data": {
      "text/plain": [
       "True"
      ]
     },
     "execution_count": 5,
     "metadata": {},
     "output_type": "execute_result"
    }
   ],
   "source": [
    "'apple' < 'banana'"
   ]
  },
  {
   "cell_type": "code",
   "execution_count": 6,
   "metadata": {},
   "outputs": [
    {
     "data": {
      "text/plain": [
       "True"
      ]
     },
     "execution_count": 6,
     "metadata": {},
     "output_type": "execute_result"
    }
   ],
   "source": [
    "'banana' < 'mango'"
   ]
  },
  {
   "cell_type": "code",
   "execution_count": 7,
   "metadata": {},
   "outputs": [
    {
     "data": {
      "text/plain": [
       "'this'"
      ]
     },
     "execution_count": 7,
     "metadata": {},
     "output_type": "execute_result"
    }
   ],
   "source": [
    "def lastword(wordlist):\n",
    "    if len(wordlist) == 0:\n",
    "        return None\n",
    "    \n",
    "    output = wordlist[0]\n",
    "    \n",
    "    for one_word in wordlist:\n",
    "        if one_word > output:\n",
    "            output = one_word\n",
    "    \n",
    "    return output\n",
    "\n",
    "lastword('this is a test of my function'.split())"
   ]
  },
  {
   "cell_type": "code",
   "execution_count": 8,
   "metadata": {},
   "outputs": [],
   "source": [
    "def lastitem(sequence):\n",
    "    if len(sequence) == 0:\n",
    "        return None\n",
    "    \n",
    "    output = sequence[0]\n",
    "    \n",
    "    for one_item in sequence:\n",
    "        if one_item > output:\n",
    "            output = one_item\n",
    "            \n",
    "    return output\n",
    "\n",
    "def maxnum(numbers):\n",
    "    return lastitem(numbers)\n",
    "\n",
    "def lastword(wordlist):\n",
    "    return lastitem(wordlist)"
   ]
  },
  {
   "cell_type": "code",
   "execution_count": 9,
   "metadata": {},
   "outputs": [
    {
     "data": {
      "text/plain": [
       "True"
      ]
     },
     "execution_count": 9,
     "metadata": {},
     "output_type": "execute_result"
    }
   ],
   "source": [
    "# original standard for characters -> numbers was called ASCII \n",
    "#  \"American standard code for information interchange\"\n",
    "\n",
    "# Unicode \n",
    "\n",
    "'Z' < 'z'"
   ]
  },
  {
   "cell_type": "code",
   "execution_count": 10,
   "metadata": {},
   "outputs": [
    {
     "data": {
      "text/plain": [
       "True"
      ]
     },
     "execution_count": 10,
     "metadata": {},
     "output_type": "execute_result"
    }
   ],
   "source": [
    "'Z' < 'a'"
   ]
  },
  {
   "cell_type": "code",
   "execution_count": 12,
   "metadata": {},
   "outputs": [
    {
     "data": {
      "text/plain": [
       "'a'"
      ]
     },
     "execution_count": 12,
     "metadata": {},
     "output_type": "execute_result"
    }
   ],
   "source": [
    "lastword('This Is a Test Of My System'.split())"
   ]
  },
  {
   "cell_type": "markdown",
   "metadata": {},
   "source": [
    "- Write a function, charcount, that takes a string and returns a dict. The dict’s keys will be all of the different characters that occur in the string, and its values will be the number of times that each character appeared."
   ]
  },
  {
   "cell_type": "code",
   "execution_count": 14,
   "metadata": {},
   "outputs": [
    {
     "data": {
      "text/plain": [
       "{'t': 4,\n",
       " 'h': 1,\n",
       " 'i': 3,\n",
       " 's': 3,\n",
       " ' ': 6,\n",
       " 'a': 1,\n",
       " 'e': 1,\n",
       " 'o': 2,\n",
       " 'f': 2,\n",
       " 'm': 1,\n",
       " 'y': 1,\n",
       " 'u': 1,\n",
       " 'n': 2,\n",
       " 'c': 1}"
      ]
     },
     "execution_count": 14,
     "metadata": {},
     "output_type": "execute_result"
    }
   ],
   "source": [
    "def charcount(s):\n",
    "    output = {}\n",
    "    \n",
    "    for one_character in s:\n",
    "        if one_character in output:   # is one_character a key in our dict?\n",
    "            output[one_character] += 1  # if so, then increment its count\n",
    "        else:\n",
    "            output[one_character] = 1  # if not, put it there with a count of 1\n",
    "    \n",
    "    return output\n",
    "\n",
    "charcount('this is a test of my function')"
   ]
  },
  {
   "cell_type": "code",
   "execution_count": 15,
   "metadata": {},
   "outputs": [
    {
     "name": "stdout",
     "output_type": "stream",
     "text": [
      "alice-in-wonderland.txt  mini-access-log.txt  selected-nums.txt\r\n",
      "dict-counts.txt\t\t myfile.txt\t      shoe-data.txt\r\n",
      "even-nums.txt\t\t myoutput.txt\t      vowel_counts.txt\r\n",
      "ip-address-report.txt\t nums.txt\t      wcfile.txt\r\n",
      "linux-etc-passwd.txt\t odd-nums.txt\r\n"
     ]
    }
   ],
   "source": [
    "!ls *.txt"
   ]
  },
  {
   "cell_type": "code",
   "execution_count": 16,
   "metadata": {
    "collapsed": true
   },
   "outputs": [
    {
     "data": {
      "text/plain": [
       "{'\\ufeff': 1,\n",
       " 'T': 241,\n",
       " 'h': 3122,\n",
       " 'e': 6671,\n",
       " ' ': 12387,\n",
       " 'P': 140,\n",
       " 'r': 3111,\n",
       " 'o': 4242,\n",
       " 'j': 129,\n",
       " 'c': 1435,\n",
       " 't': 5152,\n",
       " 'G': 122,\n",
       " 'u': 1634,\n",
       " 'n': 3530,\n",
       " 'b': 742,\n",
       " 'g': 1230,\n",
       " 'E': 187,\n",
       " 'B': 62,\n",
       " 'k': 509,\n",
       " 'f': 1061,\n",
       " 'A': 352,\n",
       " 'l': 2221,\n",
       " 'i': 3547,\n",
       " 'W': 103,\n",
       " 'd': 2245,\n",
       " 'a': 4058,\n",
       " ',': 927,\n",
       " 'y': 985,\n",
       " 'L': 90,\n",
       " 'w': 1165,\n",
       " 's': 3057,\n",
       " 'C': 100,\n",
       " '\\n': 1702,\n",
       " 'm': 1064,\n",
       " 'v': 389,\n",
       " '.': 621,\n",
       " 'Y': 58,\n",
       " 'p': 849,\n",
       " '-': 287,\n",
       " ':': 40,\n",
       " 'I': 375,\n",
       " 'R': 133,\n",
       " 'D': 120,\n",
       " '1': 64,\n",
       " '2': 10,\n",
       " '0': 24,\n",
       " '6': 9,\n",
       " '[': 27,\n",
       " '#': 1,\n",
       " '9': 15,\n",
       " '3': 21,\n",
       " ']': 27,\n",
       " '*': 33,\n",
       " 'S': 159,\n",
       " 'O': 116,\n",
       " 'F': 92,\n",
       " 'H': 92,\n",
       " 'J': 14,\n",
       " 'U': 53,\n",
       " 'N': 113,\n",
       " 'K': 42,\n",
       " '/': 31,\n",
       " '_': 150,\n",
       " '\"': 710,\n",
       " \"'\": 260,\n",
       " 'V': 20,\n",
       " 'M': 79,\n",
       " '&': 2,\n",
       " '?': 70,\n",
       " '(': 33,\n",
       " ')': 33,\n",
       " '!': 176,\n",
       " ';': 78,\n",
       " 'z': 34,\n",
       " 'x': 70,\n",
       " 'q': 62,\n",
       " 'ù': 1,\n",
       " 'Q': 34,\n",
       " 'X': 4,\n",
       " '8': 11,\n",
       " '7': 6,\n",
       " '4': 9,\n",
       " '5': 12,\n",
       " '%': 1,\n",
       " '@': 2,\n",
       " '$': 2}"
      ]
     },
     "execution_count": 16,
     "metadata": {},
     "output_type": "execute_result"
    }
   ],
   "source": [
    "charcount(open('alice-in-wonderland.txt').read())"
   ]
  },
  {
   "cell_type": "code",
   "execution_count": 17,
   "metadata": {},
   "outputs": [
    {
     "data": {
      "text/plain": [
       "'Hello, world!'"
      ]
     },
     "execution_count": 17,
     "metadata": {},
     "output_type": "execute_result"
    }
   ],
   "source": [
    "def hello(name):\n",
    "    return f'Hello, {name}!'\n",
    "\n",
    "hello('world')"
   ]
  },
  {
   "cell_type": "code",
   "execution_count": 18,
   "metadata": {},
   "outputs": [
    {
     "data": {
      "text/plain": [
       "'Hello, Reuven Lerner!'"
      ]
     },
     "execution_count": 18,
     "metadata": {},
     "output_type": "execute_result"
    }
   ],
   "source": [
    "def hello(first, last):\n",
    "    return f'Hello, {first} {last}!'\n",
    "\n",
    "hello('Reuven', 'Lerner')"
   ]
  },
  {
   "cell_type": "code",
   "execution_count": 20,
   "metadata": {},
   "outputs": [
    {
     "ename": "TypeError",
     "evalue": "hello() missing 1 required positional argument: 'last'",
     "output_type": "error",
     "traceback": [
      "\u001b[0;31m---------------------------------------------------------------------------\u001b[0m",
      "\u001b[0;31mTypeError\u001b[0m                                 Traceback (most recent call last)",
      "\u001b[0;32m<ipython-input-20-b75686646022>\u001b[0m in \u001b[0;36m<module>\u001b[0;34m\u001b[0m\n\u001b[0;32m----> 1\u001b[0;31m \u001b[0mhello\u001b[0m\u001b[0;34m(\u001b[0m\u001b[0;34m'celebrity'\u001b[0m\u001b[0;34m)\u001b[0m\u001b[0;34m\u001b[0m\u001b[0;34m\u001b[0m\u001b[0m\n\u001b[0m",
      "\u001b[0;31mTypeError\u001b[0m: hello() missing 1 required positional argument: 'last'"
     ]
    }
   ],
   "source": [
    "hello('celebrity')"
   ]
  },
  {
   "cell_type": "code",
   "execution_count": 21,
   "metadata": {},
   "outputs": [
    {
     "data": {
      "text/plain": [
       "'Hello, celebrity !'"
      ]
     },
     "execution_count": 21,
     "metadata": {},
     "output_type": "execute_result"
    }
   ],
   "source": [
    "hello('celebrity', '')"
   ]
  },
  {
   "cell_type": "code",
   "execution_count": 22,
   "metadata": {},
   "outputs": [
    {
     "data": {
      "text/plain": [
       "'Hello, Reuven Lerner!'"
      ]
     },
     "execution_count": 22,
     "metadata": {},
     "output_type": "execute_result"
    }
   ],
   "source": [
    "# default argument values\n",
    "\n",
    "def hello(first, last=''):  # \"last\" has a default value -- '' -- it's optional\n",
    "    return f'Hello, {first} {last}!'\n",
    "\n",
    "hello('Reuven', 'Lerner')"
   ]
  },
  {
   "cell_type": "code",
   "execution_count": 23,
   "metadata": {},
   "outputs": [
    {
     "data": {
      "text/plain": [
       "'Hello, celebrity !'"
      ]
     },
     "execution_count": 23,
     "metadata": {},
     "output_type": "execute_result"
    }
   ],
   "source": [
    "hello('celebrity')"
   ]
  },
  {
   "cell_type": "code",
   "execution_count": 24,
   "metadata": {},
   "outputs": [
    {
     "data": {
      "text/plain": [
       "2"
      ]
     },
     "execution_count": 24,
     "metadata": {},
     "output_type": "execute_result"
    }
   ],
   "source": [
    "hello.__code__.co_argcount"
   ]
  },
  {
   "cell_type": "code",
   "execution_count": 25,
   "metadata": {},
   "outputs": [
    {
     "data": {
      "text/plain": [
       "('',)"
      ]
     },
     "execution_count": 25,
     "metadata": {},
     "output_type": "execute_result"
    }
   ],
   "source": [
    "hello.__defaults__"
   ]
  },
  {
   "cell_type": "code",
   "execution_count": 26,
   "metadata": {},
   "outputs": [
    {
     "name": "stdout",
     "output_type": "stream",
     "text": [
      "Help on method_descriptor:\n",
      "\n",
      "split(self, /, sep=None, maxsplit=-1)\n",
      "    Return a list of the words in the string, using sep as the delimiter string.\n",
      "    \n",
      "    sep\n",
      "      The delimiter according which to split the string.\n",
      "      None (the default value) means split according to any whitespace,\n",
      "      and discard empty strings from the result.\n",
      "    maxsplit\n",
      "      Maximum number of splits to do.\n",
      "      -1 (the default value) means no limit.\n",
      "\n"
     ]
    }
   ],
   "source": [
    "help(str.split)"
   ]
  },
  {
   "cell_type": "code",
   "execution_count": 28,
   "metadata": {},
   "outputs": [
    {
     "data": {
      "text/plain": [
       "['abcdef', 'ghijkl']"
      ]
     },
     "execution_count": 28,
     "metadata": {},
     "output_type": "execute_result"
    }
   ],
   "source": [
    "'abcdef   ghijkl'.split()"
   ]
  },
  {
   "cell_type": "code",
   "execution_count": 30,
   "metadata": {},
   "outputs": [
    {
     "data": {
      "text/plain": [
       "['root', 'daemon', 'bin', 'sys', 'sync']"
      ]
     },
     "execution_count": 30,
     "metadata": {},
     "output_type": "execute_result"
    }
   ],
   "source": [
    "def get_usernames(max_count=5):\n",
    "    output = []\n",
    "    for one_line in open('linux-etc-passwd.txt'):\n",
    "        if one_line.startswith((\"#\", '\\n')):\n",
    "            continue\n",
    "        username = one_line.split(\":\")[0]\n",
    "        output.append(username)\n",
    "\n",
    "        if len(output) >= max_count:\n",
    "            break\n",
    "    return output\n",
    "\n",
    "get_usernames()"
   ]
  },
  {
   "cell_type": "code",
   "execution_count": 31,
   "metadata": {},
   "outputs": [
    {
     "data": {
      "text/plain": [
       "['root',\n",
       " 'daemon',\n",
       " 'bin',\n",
       " 'sys',\n",
       " 'sync',\n",
       " 'games',\n",
       " 'man',\n",
       " 'lp',\n",
       " 'mail',\n",
       " 'news',\n",
       " 'uucp',\n",
       " 'proxy',\n",
       " 'www-data',\n",
       " 'backup',\n",
       " 'list',\n",
       " 'irc',\n",
       " 'gnats',\n",
       " 'nobody',\n",
       " 'syslog',\n",
       " 'messagebus',\n",
       " 'landscape',\n",
       " 'jci',\n",
       " 'sshd',\n",
       " 'user',\n",
       " 'reuven',\n",
       " 'postfix',\n",
       " 'colord',\n",
       " 'postgres',\n",
       " 'dovecot',\n",
       " 'dovenull',\n",
       " 'postgrey',\n",
       " 'debian-spamd',\n",
       " 'memcache',\n",
       " 'genadi',\n",
       " 'shira',\n",
       " 'atara',\n",
       " 'shikma',\n",
       " 'amotz',\n",
       " 'mysql',\n",
       " 'clamav',\n",
       " 'amavis',\n",
       " 'opendkim',\n",
       " 'gitlab-redis',\n",
       " 'gitlab-psql',\n",
       " 'git',\n",
       " 'opendmarc',\n",
       " 'dkim-milter-python',\n",
       " 'deploy',\n",
       " 'redis']"
      ]
     },
     "execution_count": 31,
     "metadata": {},
     "output_type": "execute_result"
    }
   ],
   "source": [
    "get_usernames(10000)"
   ]
  },
  {
   "cell_type": "code",
   "execution_count": 35,
   "metadata": {},
   "outputs": [
    {
     "data": {
      "text/plain": [
       "13"
      ]
     },
     "execution_count": 35,
     "metadata": {},
     "output_type": "execute_result"
    }
   ],
   "source": [
    "def add(x, y=5):\n",
    "    return x + y\n",
    "\n",
    "add(10, 3)"
   ]
  },
  {
   "cell_type": "code",
   "execution_count": 36,
   "metadata": {},
   "outputs": [
    {
     "data": {
      "text/plain": [
       "25"
      ]
     },
     "execution_count": 36,
     "metadata": {},
     "output_type": "execute_result"
    }
   ],
   "source": [
    "add(20, 5)"
   ]
  },
  {
   "cell_type": "code",
   "execution_count": 37,
   "metadata": {},
   "outputs": [
    {
     "data": {
      "text/plain": [
       "8"
      ]
     },
     "execution_count": 37,
     "metadata": {},
     "output_type": "execute_result"
    }
   ],
   "source": [
    "add(3)"
   ]
  },
  {
   "cell_type": "code",
   "execution_count": 38,
   "metadata": {},
   "outputs": [
    {
     "ename": "SyntaxError",
     "evalue": "non-default argument follows default argument (<ipython-input-38-b96c1b467cd5>, line 3)",
     "output_type": "error",
     "traceback": [
      "\u001b[0;36m  File \u001b[0;32m\"<ipython-input-38-b96c1b467cd5>\"\u001b[0;36m, line \u001b[0;32m3\u001b[0m\n\u001b[0;31m    def add(x=10, y):\u001b[0m\n\u001b[0m            ^\u001b[0m\n\u001b[0;31mSyntaxError\u001b[0m\u001b[0;31m:\u001b[0m non-default argument follows default argument\n"
     ]
    }
   ],
   "source": [
    "# THIS WILL NOT WORK!!!\n",
    "\n",
    "def add(x=10, y):\n",
    "    return x + y\n",
    "\n",
    "add(10, 3)"
   ]
  },
  {
   "cell_type": "code",
   "execution_count": 40,
   "metadata": {},
   "outputs": [
    {
     "data": {
      "text/plain": [
       "18"
      ]
     },
     "execution_count": 40,
     "metadata": {},
     "output_type": "execute_result"
    }
   ],
   "source": [
    "def add(x=3, y=5):\n",
    "    return x + y\n",
    "\n",
    "add(10, 8)"
   ]
  },
  {
   "cell_type": "code",
   "execution_count": 41,
   "metadata": {},
   "outputs": [
    {
     "data": {
      "text/plain": [
       "6"
      ]
     },
     "execution_count": 41,
     "metadata": {},
     "output_type": "execute_result"
    }
   ],
   "source": [
    "add(2, 4)   # positional arguments"
   ]
  },
  {
   "cell_type": "code",
   "execution_count": 42,
   "metadata": {},
   "outputs": [
    {
     "data": {
      "text/plain": [
       "7"
      ]
     },
     "execution_count": 42,
     "metadata": {},
     "output_type": "execute_result"
    }
   ],
   "source": [
    "add(2)"
   ]
  },
  {
   "cell_type": "code",
   "execution_count": 43,
   "metadata": {},
   "outputs": [
    {
     "data": {
      "text/plain": [
       "8"
      ]
     },
     "execution_count": 43,
     "metadata": {},
     "output_type": "execute_result"
    }
   ],
   "source": [
    "add() "
   ]
  },
  {
   "cell_type": "code",
   "execution_count": 44,
   "metadata": {},
   "outputs": [
    {
     "data": {
      "text/plain": [
       "103"
      ]
     },
     "execution_count": 44,
     "metadata": {},
     "output_type": "execute_result"
    }
   ],
   "source": [
    "add(y=100)"
   ]
  },
  {
   "cell_type": "code",
   "execution_count": 45,
   "metadata": {},
   "outputs": [
    {
     "data": {
      "text/plain": [
       "300"
      ]
     },
     "execution_count": 45,
     "metadata": {},
     "output_type": "execute_result"
    }
   ],
   "source": [
    "add(x=100, y=200)  # keyword arguments"
   ]
  },
  {
   "cell_type": "code",
   "execution_count": 46,
   "metadata": {},
   "outputs": [
    {
     "data": {
      "text/plain": [
       "300"
      ]
     },
     "execution_count": 46,
     "metadata": {},
     "output_type": "execute_result"
    }
   ],
   "source": [
    "add(y=100, x=200)  # keyword arguments"
   ]
  },
  {
   "cell_type": "code",
   "execution_count": 47,
   "metadata": {},
   "outputs": [
    {
     "data": {
      "text/plain": [
       "'abc**abc**abc**abc**abc'"
      ]
     },
     "execution_count": 47,
     "metadata": {},
     "output_type": "execute_result"
    }
   ],
   "source": [
    "def fancy_join(text, times, glue):\n",
    "    output = []\n",
    "    for i in range(times):\n",
    "        output.append(text)\n",
    "        \n",
    "    return glue.join(output)\n",
    "\n",
    "fancy_join('abc', 5, '**')"
   ]
  },
  {
   "cell_type": "code",
   "execution_count": 48,
   "metadata": {},
   "outputs": [
    {
     "name": "stdout",
     "output_type": "stream",
     "text": [
      "Help on built-in function sorted in module builtins:\n",
      "\n",
      "sorted(iterable, /, *, key=None, reverse=False)\n",
      "    Return a new list containing all items from the iterable in ascending order.\n",
      "    \n",
      "    A custom key function can be supplied to customize the sort order, and the\n",
      "    reverse flag can be set to request the result in descending order.\n",
      "\n"
     ]
    }
   ],
   "source": [
    "help(sorted)"
   ]
  },
  {
   "cell_type": "code",
   "execution_count": 49,
   "metadata": {},
   "outputs": [
    {
     "data": {
      "text/plain": [
       "[2, 5, 7, 9, 10]"
      ]
     },
     "execution_count": 49,
     "metadata": {},
     "output_type": "execute_result"
    }
   ],
   "source": [
    "sorted([10, 5, 7, 2, 9])"
   ]
  },
  {
   "cell_type": "code",
   "execution_count": 51,
   "metadata": {},
   "outputs": [
    {
     "data": {
      "text/plain": [
       "[10, 9, 7, 5, 2]"
      ]
     },
     "execution_count": 51,
     "metadata": {},
     "output_type": "execute_result"
    }
   ],
   "source": [
    "sorted([10, 5, 7, 2, 9], reverse=True)"
   ]
  },
  {
   "cell_type": "code",
   "execution_count": 52,
   "metadata": {},
   "outputs": [
    {
     "data": {
      "text/plain": [
       "range(0, 10)"
      ]
     },
     "execution_count": 52,
     "metadata": {},
     "output_type": "execute_result"
    }
   ],
   "source": [
    "range(10)"
   ]
  },
  {
   "cell_type": "code",
   "execution_count": 53,
   "metadata": {},
   "outputs": [
    {
     "data": {
      "text/plain": [
       "range(0, 5)"
      ]
     },
     "execution_count": 53,
     "metadata": {},
     "output_type": "execute_result"
    }
   ],
   "source": [
    "range(5)"
   ]
  },
  {
   "cell_type": "code",
   "execution_count": 55,
   "metadata": {},
   "outputs": [
    {
     "name": "stdout",
     "output_type": "stream",
     "text": [
      "0\n",
      "1\n",
      "2\n",
      "3\n",
      "4\n"
     ]
    }
   ],
   "source": [
    "for i in range(5):  # from 0 to (not including) 5\n",
    "    print(i)"
   ]
  },
  {
   "cell_type": "code",
   "execution_count": 56,
   "metadata": {},
   "outputs": [
    {
     "data": {
      "text/plain": [
       "[10, 20, 30, 1]"
      ]
     },
     "execution_count": 56,
     "metadata": {},
     "output_type": "execute_result"
    }
   ],
   "source": [
    "def add_one(a_list):\n",
    "    a_list.append(1)\n",
    "    return a_list\n",
    "\n",
    "mylist = [10, 20, 30]\n",
    "add_one(mylist)"
   ]
  },
  {
   "cell_type": "code",
   "execution_count": 57,
   "metadata": {},
   "outputs": [
    {
     "data": {
      "text/plain": [
       "[10, 20, 30, 1]"
      ]
     },
     "execution_count": 57,
     "metadata": {},
     "output_type": "execute_result"
    }
   ],
   "source": [
    "mylist"
   ]
  },
  {
   "cell_type": "code",
   "execution_count": 58,
   "metadata": {},
   "outputs": [
    {
     "data": {
      "text/plain": [
       "[10, 20, 30, 1]"
      ]
     },
     "execution_count": 58,
     "metadata": {},
     "output_type": "execute_result"
    }
   ],
   "source": [
    "def add_one(a_list=[]):\n",
    "    a_list.append(1)\n",
    "    return a_list\n",
    "\n",
    "mylist = [10, 20, 30]\n",
    "add_one(mylist)"
   ]
  },
  {
   "cell_type": "code",
   "execution_count": 59,
   "metadata": {},
   "outputs": [
    {
     "data": {
      "text/plain": [
       "[1]"
      ]
     },
     "execution_count": 59,
     "metadata": {},
     "output_type": "execute_result"
    }
   ],
   "source": [
    "add_one()"
   ]
  },
  {
   "cell_type": "code",
   "execution_count": 60,
   "metadata": {},
   "outputs": [
    {
     "data": {
      "text/plain": [
       "[1, 1]"
      ]
     },
     "execution_count": 60,
     "metadata": {},
     "output_type": "execute_result"
    }
   ],
   "source": [
    "add_one()"
   ]
  },
  {
   "cell_type": "code",
   "execution_count": 61,
   "metadata": {},
   "outputs": [
    {
     "data": {
      "text/plain": [
       "[1, 1, 1]"
      ]
     },
     "execution_count": 61,
     "metadata": {},
     "output_type": "execute_result"
    }
   ],
   "source": [
    "add_one()"
   ]
  },
  {
   "cell_type": "code",
   "execution_count": 62,
   "metadata": {},
   "outputs": [
    {
     "data": {
      "text/plain": [
       "[1, 1, 1, 1]"
      ]
     },
     "execution_count": 62,
     "metadata": {},
     "output_type": "execute_result"
    }
   ],
   "source": [
    "add_one()"
   ]
  },
  {
   "cell_type": "code",
   "execution_count": 63,
   "metadata": {},
   "outputs": [
    {
     "data": {
      "text/plain": [
       "([1, 1, 1, 1],)"
      ]
     },
     "execution_count": 63,
     "metadata": {},
     "output_type": "execute_result"
    }
   ],
   "source": [
    "add_one.__defaults__"
   ]
  },
  {
   "cell_type": "code",
   "execution_count": 64,
   "metadata": {},
   "outputs": [],
   "source": [
    "def add_one(a_list=[]):\n",
    "    a_list.append(1)\n",
    "    return a_list\n"
   ]
  },
  {
   "cell_type": "code",
   "execution_count": 65,
   "metadata": {},
   "outputs": [
    {
     "data": {
      "text/plain": [
       "([],)"
      ]
     },
     "execution_count": 65,
     "metadata": {},
     "output_type": "execute_result"
    }
   ],
   "source": [
    "add_one.__defaults__"
   ]
  },
  {
   "cell_type": "code",
   "execution_count": 66,
   "metadata": {},
   "outputs": [
    {
     "data": {
      "text/plain": [
       "[1]"
      ]
     },
     "execution_count": 66,
     "metadata": {},
     "output_type": "execute_result"
    }
   ],
   "source": [
    "add_one()"
   ]
  },
  {
   "cell_type": "code",
   "execution_count": 67,
   "metadata": {},
   "outputs": [
    {
     "data": {
      "text/plain": [
       "([1],)"
      ]
     },
     "execution_count": 67,
     "metadata": {},
     "output_type": "execute_result"
    }
   ],
   "source": [
    "add_one.__defaults__"
   ]
  },
  {
   "cell_type": "markdown",
   "metadata": {},
   "source": [
    "## Important rule of thumb: NEVER USE mutable defaults!\n",
    "\n",
    "Meaning: Your default argument values should be immutable (None, boolean, string, integer, tuple)"
   ]
  },
  {
   "cell_type": "code",
   "execution_count": 68,
   "metadata": {},
   "outputs": [],
   "source": [
    "# splat-args  *args"
   ]
  },
  {
   "cell_type": "code",
   "execution_count": 71,
   "metadata": {},
   "outputs": [
    {
     "data": {
      "text/plain": [
       "['Gutenberg',\n",
       " 'anywhere',\n",
       " 'Gutenberg',\n",
       " 'included',\n",
       " 'Wonderland',\n",
       " 'Robinson',\n",
       " 'Language:',\n",
       " 'GUTENBERG',\n",
       " 'WONDERLAND',\n",
       " 'Produced',\n",
       " 'Duchess.]',\n",
       " 'ADVENTURES',\n",
       " 'WONDERLAND',\n",
       " 'Copyright,',\n",
       " 'ADVENTURES',\n",
       " 'WONDERLAND',\n",
       " 'beginning',\n",
       " 'reading,',\n",
       " 'pictures',\n",
       " '\"without',\n",
       " 'pictures',\n",
       " 'stupid),',\n",
       " 'pleasure',\n",
       " 'daisies,',\n",
       " 'suddenly',\n",
       " 'remarkable',\n",
       " 'actually',\n",
       " 'curiosity,',\n",
       " 'straight',\n",
       " 'suddenly',\n",
       " 'suddenly',\n",
       " 'stopping',\n",
       " 'anything;',\n",
       " 'cupboards',\n",
       " 'pictures',\n",
       " 'cupboards',\n",
       " 'herself.',\n",
       " '\"Dinah\\'ll',\n",
       " 'to-night,',\n",
       " 'remember',\n",
       " 'tea-time.',\n",
       " 'suddenly,',\n",
       " 'overhead;',\n",
       " 'hurrying',\n",
       " 'whiskers,',\n",
       " 'getting!\"',\n",
       " 'wondering',\n",
       " 'Suddenly',\n",
       " 'However,',\n",
       " 'delight,',\n",
       " 'passage,',\n",
       " 'rat-hole;',\n",
       " 'loveliest',\n",
       " 'fountains,',\n",
       " 'doorway.',\n",
       " 'telescope!',\n",
       " 'shutting',\n",
       " 'certainly',\n",
       " 'before,\"',\n",
       " 'letters.',\n",
       " \"'_poison_'\",\n",
       " 'forgotten',\n",
       " '\"poison,\"',\n",
       " 'disagree',\n",
       " 'However,',\n",
       " '\"poison,\"',\n",
       " 'ventured',\n",
       " 'custard,',\n",
       " 'pineapple,',\n",
       " 'buttered',\n",
       " 'finished',\n",
       " 'feeling!\"',\n",
       " 'shutting',\n",
       " 'brightened',\n",
       " 'happened,',\n",
       " 'forgotten',\n",
       " 'possibly',\n",
       " 'slippery,',\n",
       " 'sharply.',\n",
       " 'minute!\"',\n",
       " 'generally',\n",
       " 'followed',\n",
       " 'sometimes',\n",
       " 'severely',\n",
       " 'currants.',\n",
       " 'smaller,',\n",
       " 'happens!\"',\n",
       " 'anxiously',\n",
       " 'herself,',\n",
       " 'growing;',\n",
       " 'surprised',\n",
       " 'remained',\n",
       " 'finished',\n",
       " '\"Curiouser',\n",
       " 'surprised',\n",
       " 'English).',\n",
       " 'telescope',\n",
       " 'Good-by,',\n",
       " 'stockings',\n",
       " 'hopeless',\n",
       " 'shedding',\n",
       " 'reaching',\n",
       " 'pattering',\n",
       " 'distance',\n",
       " 'returning,',\n",
       " 'splendidly',\n",
       " 'dressed,',\n",
       " 'kid-gloves',\n",
       " 'trotting',\n",
       " 'muttering',\n",
       " 'himself,',\n",
       " 'Duchess,',\n",
       " 'Duchess!',\n",
       " 'waiting!\"',\n",
       " 'violently,',\n",
       " 'kid-gloves',\n",
       " 'skurried',\n",
       " 'darkness',\n",
       " 'talking.',\n",
       " 'everything',\n",
       " 'yesterday',\n",
       " 'morning?',\n",
       " 'question',\n",
       " \"_that's_\",\n",
       " 'puzzle!\"',\n",
       " 'surprised',\n",
       " \"Rabbit's\",\n",
       " 'kid-gloves',\n",
       " 'talking.',\n",
       " 'thought.',\n",
       " 'shrinking',\n",
       " 'rapidly.',\n",
       " 'hastily,',\n",
       " 'shrinking',\n",
       " 'escape!\"',\n",
       " 'frightened',\n",
       " 'existence.',\n",
       " 'garden!\"',\n",
       " 'slipped,',\n",
       " 'However,',\n",
       " 'something',\n",
       " 'splashing',\n",
       " 'herself.',\n",
       " 'Everything',\n",
       " 'trying.\"',\n",
       " 'swimming',\n",
       " 'nothing.',\n",
       " '\"Perhaps',\n",
       " 'understand',\n",
       " 'English,\"',\n",
       " 'chatte?\"',\n",
       " 'sentence',\n",
       " 'pardon!\"',\n",
       " 'hastily,',\n",
       " \"animal's\",\n",
       " 'feelings.',\n",
       " 'passionate',\n",
       " 'soothing',\n",
       " 'bristling',\n",
       " 'offended.',\n",
       " 'indeed!\"',\n",
       " 'trembling',\n",
       " 'subject!',\n",
       " 'indeed!\"',\n",
       " 'you--are',\n",
       " 'and--oh,',\n",
       " 'sorrowful',\n",
       " 'offended',\n",
       " 'swimming',\n",
       " 'commotion',\n",
       " 'trembling',\n",
       " 'understand',\n",
       " 'creatures.',\n",
       " 'assembled',\n",
       " 'bank--the',\n",
       " 'draggled',\n",
       " 'feathers,',\n",
       " 'clinging',\n",
       " 'dripping',\n",
       " 'question,',\n",
       " 'minutes,',\n",
       " 'familiarly',\n",
       " 'authority',\n",
       " 'enough!\"',\n",
       " 'important',\n",
       " \"'William\",\n",
       " 'Conqueror,',\n",
       " 'submitted',\n",
       " 'English,',\n",
       " 'leaders,',\n",
       " 'accustomed',\n",
       " 'usurpation',\n",
       " 'conquest.',\n",
       " 'Stigand,',\n",
       " 'patriotic',\n",
       " 'archbishop',\n",
       " '_what_?\"',\n",
       " 'crossly;',\n",
       " 'generally',\n",
       " 'question',\n",
       " 'archbishop',\n",
       " 'question,',\n",
       " 'hurriedly',\n",
       " '\"\\'--found',\n",
       " 'advisable',\n",
       " 'Atheling',\n",
       " 'continued,',\n",
       " 'melancholy',\n",
       " 'solemnly,',\n",
       " 'adjourn,',\n",
       " 'immediate',\n",
       " 'adoption',\n",
       " 'energetic',\n",
       " 'English!\"',\n",
       " 'either!\"',\n",
       " 'offended',\n",
       " 'However,',\n",
       " 'suddenly',\n",
       " 'question',\n",
       " 'thought.',\n",
       " 'prizes.\"',\n",
       " 'prizes?\"',\n",
       " 'course,\"',\n",
       " 'pointing',\n",
       " 'confused',\n",
       " '\"Prizes!',\n",
       " 'Prizes!\"',\n",
       " '(luckily',\n",
       " 'salt-water',\n",
       " 'a-piece,',\n",
       " 'comfits;',\n",
       " 'confusion,',\n",
       " 'complained',\n",
       " 'However,',\n",
       " 'something',\n",
       " 'promised',\n",
       " 'history,',\n",
       " 'whisper,',\n",
       " 'offended',\n",
       " 'sighing.',\n",
       " 'puzzling',\n",
       " 'speaking,',\n",
       " 'something',\n",
       " 'prosecute',\n",
       " '_you_.--',\n",
       " \"breath.'\",\n",
       " 'death.\\'\"',\n",
       " 'severely.',\n",
       " 'thinking',\n",
       " 'pardon,\"',\n",
       " 'nonsense!\"',\n",
       " 'quicker.',\n",
       " 'remarkable',\n",
       " 'sensation',\n",
       " 'trembling',\n",
       " 'children,',\n",
       " 'pretexts',\n",
       " 'mentioned',\n",
       " 'however,',\n",
       " 'pattering',\n",
       " 'footsteps',\n",
       " 'distance',\n",
       " 'eagerly.',\n",
       " 'trotting',\n",
       " 'anxiously',\n",
       " 'something;',\n",
       " 'muttering',\n",
       " 'Duchess!',\n",
       " 'Duchess!',\n",
       " 'whiskers!',\n",
       " 'executed,',\n",
       " 'ferrets!',\n",
       " 'wonder?\"',\n",
       " 'kid-gloves',\n",
       " 'vanished',\n",
       " 'surprised',\n",
       " 'engraved',\n",
       " 'knocking',\n",
       " 'upstairs,',\n",
       " 'uncorked',\n",
       " 'herself,',\n",
       " 'pressing',\n",
       " 'ceiling,',\n",
       " 'remarking,',\n",
       " 'enough--I',\n",
       " 'growing,',\n",
       " 'resource,',\n",
       " 'chimney,',\n",
       " 'herself,',\n",
       " 'whatever',\n",
       " 'happens.',\n",
       " 'moment!\"',\n",
       " 'pattering',\n",
       " 'trembled',\n",
       " 'forgetting',\n",
       " 'thousand',\n",
       " 'Presently',\n",
       " 'failure.',\n",
       " 'window.\"',\n",
       " 'suddenly',\n",
       " 'anything,',\n",
       " 'concluded',\n",
       " 'possible',\n",
       " 'something',\n",
       " 'voice--the',\n",
       " 'window?\"',\n",
       " 'business',\n",
       " 'whispers',\n",
       " '_could_!\"',\n",
       " 'anything',\n",
       " 'rumbling',\n",
       " 'together.',\n",
       " '\"Where\\'s',\n",
       " \"sha'n't!\",\n",
       " 'chimney!\"',\n",
       " 'scratching',\n",
       " 'scrambling',\n",
       " \"Rabbit's\",\n",
       " 'confusion',\n",
       " \"now--Don't\",\n",
       " 'him--What',\n",
       " 'happened',\n",
       " 'squeaking',\n",
       " 'know--No',\n",
       " 'now--all',\n",
       " 'something',\n",
       " 'silence,',\n",
       " 'barrowful',\n",
       " 'barrowful',\n",
       " '_what_?\"',\n",
       " 'rattling',\n",
       " 'noticed,',\n",
       " 'surprise,',\n",
       " 'thought,',\n",
       " 'swallowed',\n",
       " 'delighted',\n",
       " 'shrinking',\n",
       " 'directly.',\n",
       " 'outside.',\n",
       " 'appeared,',\n",
       " 'Alice\\'s.\"]',\n",
       " 'herself,',\n",
       " 'wandered',\n",
       " 'something',\n",
       " 'question',\n",
       " '\\'What?\\'\"',\n",
       " 'anything',\n",
       " 'mushroom',\n",
       " 'herself.',\n",
       " 'stretched',\n",
       " 'smallest',\n",
       " 'anything',\n",
       " 'V--ADVICE',\n",
       " 'addressed',\n",
       " 'languid,',\n",
       " 'replied,',\n",
       " 'morning,',\n",
       " 'sternly.',\n",
       " '\"Explain',\n",
       " 'yourself!\"',\n",
       " '_myself_,',\n",
       " '\"because',\n",
       " 'see--being',\n",
       " 'different',\n",
       " 'gravely,',\n",
       " 'unpleasant',\n",
       " 'something',\n",
       " 'important',\n",
       " 'temper,\"',\n",
       " 'swallowing',\n",
       " 'unfolded',\n",
       " 'changed,',\n",
       " 'remember',\n",
       " 'used--and',\n",
       " 'together!\"',\n",
       " 'particular',\n",
       " 'replied,',\n",
       " 'changing',\n",
       " '_little_',\n",
       " \"wouldn't\",\n",
       " 'wretched',\n",
       " 'indeed!\"',\n",
       " 'angrily,',\n",
       " 'mushroom',\n",
       " 'remarking,',\n",
       " 'shorter.\"',\n",
       " '_what_?\"',\n",
       " 'herself.',\n",
       " 'mushroom,\"',\n",
       " 'remained',\n",
       " 'mushroom',\n",
       " 'stretched',\n",
       " 'herself,',\n",
       " 'right-hand',\n",
       " 'underneath',\n",
       " 'chin--it',\n",
       " 'frightened',\n",
       " 'shrinking',\n",
       " 'rapidly;',\n",
       " 'left-hand',\n",
       " 'shoulders',\n",
       " 'delighted',\n",
       " 'direction,',\n",
       " 'serpent.',\n",
       " 'succeeded',\n",
       " 'graceful',\n",
       " 'hurry--a',\n",
       " 'violently',\n",
       " '\"Serpent!\"',\n",
       " 'serpent!\"',\n",
       " 'hedges,\"',\n",
       " 'serpents!',\n",
       " 'pleasing',\n",
       " 'puzzled.',\n",
       " 'hatching',\n",
       " 'look-out',\n",
       " 'serpents,',\n",
       " 'continued',\n",
       " 'thinking',\n",
       " 'wriggling',\n",
       " 'Serpent!\"',\n",
       " 'serpent,',\n",
       " 'remembered',\n",
       " 'enough,\"',\n",
       " 'serpent?\"',\n",
       " 'hastily;',\n",
       " 'happens,',\n",
       " \"shouldn't\",\n",
       " '_yours_--I',\n",
       " 'crouched',\n",
       " 'entangled',\n",
       " 'branches,',\n",
       " 'remembered',\n",
       " 'mushroom',\n",
       " 'carefully,',\n",
       " 'nibbling',\n",
       " 'sometimes',\n",
       " 'sometimes',\n",
       " 'shorter,',\n",
       " 'succeeded',\n",
       " 'bringing',\n",
       " 'anything',\n",
       " 'beautiful',\n",
       " 'wonder?\"',\n",
       " 'suddenly',\n",
       " '\"Whoever',\n",
       " 'frighten',\n",
       " 'suddenly',\n",
       " '(judging',\n",
       " 'fish)--and',\n",
       " 'knuckles.',\n",
       " 'producing',\n",
       " 'Duchess.',\n",
       " 'invitation',\n",
       " 'croquet.\"',\n",
       " 'repeated,',\n",
       " 'invitation',\n",
       " 'croquet.\"',\n",
       " 'entangled',\n",
       " 'together.',\n",
       " 'stupidly',\n",
       " 'knocked.',\n",
       " '\"There\\'s',\n",
       " 'knocking,\"',\n",
       " 'Footman,',\n",
       " 'reasons.',\n",
       " 'secondly,',\n",
       " 'possibly',\n",
       " 'certainly',\n",
       " 'within--a',\n",
       " 'constant',\n",
       " 'sneezing,',\n",
       " 'Footman.',\n",
       " 'question,',\n",
       " 'kitchen,',\n",
       " 'stirring',\n",
       " '\"There\\'s',\n",
       " 'certainly',\n",
       " 'herself,',\n",
       " 'sneezing.',\n",
       " 'sneezing',\n",
       " \"moment's\",\n",
       " 'creatures',\n",
       " 'grinning',\n",
       " 'timidly,',\n",
       " 'Duchess,',\n",
       " 'grinned;',\n",
       " 'Duchess,',\n",
       " 'throwing',\n",
       " 'everything',\n",
       " 'baby--the',\n",
       " 'fire-irons',\n",
       " 'followed',\n",
       " 'saucepans,',\n",
       " 'impossible',\n",
       " '_please_',\n",
       " 'flinging',\n",
       " 'creature',\n",
       " '\"they\\'re',\n",
       " \"Wouldn't\",\n",
       " 'behind?\"',\n",
       " 'beginning',\n",
       " 'herself,',\n",
       " 'creature,',\n",
       " 'violently',\n",
       " 'creature',\n",
       " 'relieved',\n",
       " 'startled',\n",
       " 'timidly,',\n",
       " 'people,\"',\n",
       " 'remarked.',\n",
       " 'to-day?\"',\n",
       " 'vanished.',\n",
       " 'left-hand',\n",
       " 'mushroom.',\n",
       " 'TEA-PARTY',\n",
       " 'Dormouse',\n",
       " 'together',\n",
       " '\"There\\'s',\n",
       " '_plenty_',\n",
       " 'arm-chair',\n",
       " 'riddles--I',\n",
       " '\"Exactly',\n",
       " 'replied;',\n",
       " 'least--at',\n",
       " 'Dormouse,',\n",
       " 'breathe!\\'\"',\n",
       " 'Dormouse',\n",
       " 'myself.\"',\n",
       " 'replied.',\n",
       " 'answer?\"',\n",
       " 'slightest',\n",
       " 'something',\n",
       " 'answers.\"',\n",
       " 'earnestly.',\n",
       " 'offended',\n",
       " '_less_,\"',\n",
       " 'nothing.\"',\n",
       " 'Dormouse',\n",
       " 'instantly',\n",
       " 'Dormouse',\n",
       " 'tea-pot.',\n",
       " 'Hearts.]',\n",
       " 'stupidest',\n",
       " 'tea-party',\n",
       " 'curious!\"',\n",
       " 'thought.',\n",
       " 'unlocked',\n",
       " 'nibbling',\n",
       " 'mushroom',\n",
       " 'passage;',\n",
       " 'beautiful',\n",
       " 'fountains.',\n",
       " 'VIII--THE',\n",
       " 'rose-tree',\n",
       " 'entrance',\n",
       " 'gardeners',\n",
       " 'painting',\n",
       " 'Suddenly',\n",
       " 'watching',\n",
       " 'please,\"',\n",
       " 'timidly,',\n",
       " 'painting',\n",
       " 'nothing,',\n",
       " 'rose-tree,',\n",
       " 'mistake;',\n",
       " 'anxiously',\n",
       " 'gardeners',\n",
       " 'instantly',\n",
       " 'themselves',\n",
       " 'footsteps',\n",
       " 'soldiers',\n",
       " 'carrying',\n",
       " 'corners:',\n",
       " 'courtiers;',\n",
       " 'ornamented',\n",
       " 'diamonds.',\n",
       " 'children;',\n",
       " 'ornamented',\n",
       " 'recognized',\n",
       " 'followed',\n",
       " 'carrying',\n",
       " 'cushion;',\n",
       " 'procession',\n",
       " 'procession',\n",
       " 'opposite',\n",
       " 'severely,',\n",
       " 'Majesty,\"',\n",
       " 'politely;',\n",
       " 'herself,',\n",
       " 'croquet?\"',\n",
       " 'question',\n",
       " 'evidently',\n",
       " 'anxiously',\n",
       " '\"Where\\'s',\n",
       " 'Duchess?\"',\n",
       " 'sentence',\n",
       " 'places!\"',\n",
       " 'thunder,',\n",
       " 'tumbling',\n",
       " 'However,',\n",
       " 'furrows.',\n",
       " 'hedgehogs,',\n",
       " 'flamingos',\n",
       " 'soldiers',\n",
       " 'themselves',\n",
       " 'fighting',\n",
       " 'hedgehogs;',\n",
       " 'stamping',\n",
       " 'shouting,',\n",
       " '\"They\\'re',\n",
       " 'dreadfully',\n",
       " 'beheading',\n",
       " 'appearance',\n",
       " 'herself;',\n",
       " 'somebody',\n",
       " 'fairly,\"',\n",
       " 'dreadfully',\n",
       " 'speak--and',\n",
       " 'hedgehog.',\n",
       " 'hedgehog',\n",
       " 'hedgehog,',\n",
       " 'excellent',\n",
       " 'croqueting',\n",
       " 'difficulty',\n",
       " 'flamingo',\n",
       " 'helpless',\n",
       " 'flamingo',\n",
       " 'prison).',\n",
       " 'together.',\n",
       " 'pleasant',\n",
       " 'startled,',\n",
       " 'however,',\n",
       " 'thinking',\n",
       " 'something,',\n",
       " 'Duchess;',\n",
       " \"is--'Oh,\",\n",
       " '\\'round!\\'\"',\n",
       " '\"Somebody',\n",
       " 'whispered,',\n",
       " 'everybody',\n",
       " 'business!\"',\n",
       " 'Duchess,',\n",
       " 'shoulder,',\n",
       " \"is--'Take\",\n",
       " 'surprise,',\n",
       " \"Duchess's\",\n",
       " 'tremble.',\n",
       " 'frowning',\n",
       " 'warning,\"',\n",
       " 'stamping',\n",
       " 'choice!\"',\n",
       " 'frightened',\n",
       " 'followed',\n",
       " 'playing,',\n",
       " 'quarreling',\n",
       " 'shouting,',\n",
       " 'players,',\n",
       " 'soldiers',\n",
       " 'sentence',\n",
       " 'execution.',\n",
       " 'generally,',\n",
       " 'pardoned.\"',\n",
       " 'Suddenly',\n",
       " 'distance,',\n",
       " 'arrived,',\n",
       " 'assembled',\n",
       " 'them--all',\n",
       " 'standing',\n",
       " 'parchment',\n",
       " 'thought,',\n",
       " 'jury-box,\"',\n",
       " 'creatures',\n",
       " 'jurors.\"',\n",
       " '\"Silence',\n",
       " '\"Herald,',\n",
       " 'trumpet,',\n",
       " 'unrolled',\n",
       " 'follows:',\n",
       " 'witness,\"',\n",
       " 'witness!\"',\n",
       " 'finished,\"',\n",
       " 'followed',\n",
       " 'Dormouse.',\n",
       " 'evidence,\"',\n",
       " 'nervous,',\n",
       " 'executed',\n",
       " 'encourage',\n",
       " 'shifting',\n",
       " 'uneasily',\n",
       " 'confusion,',\n",
       " 'beginning',\n",
       " 'miserable',\n",
       " 'Majesty,\"',\n",
       " 'hurriedly',\n",
       " 'witness!\"',\n",
       " \"Duchess's\",\n",
       " 'pepper-box',\n",
       " 'sneezing',\n",
       " 'evidence,\"',\n",
       " '\"Sha\\'n\\'t,\"',\n",
       " 'anxiously',\n",
       " 'witness.\"',\n",
       " '\"Pepper,',\n",
       " 'mostly,\"',\n",
       " 'confusion',\n",
       " 'witness.\"',\n",
       " 'surprise',\n",
       " '\"Alice!\"',\n",
       " \"X--ALICE'S\",\n",
       " 'EVIDENCE',\n",
       " 'jury-box,',\n",
       " 'upsetting',\n",
       " 'pardon!\"',\n",
       " 'exclaimed',\n",
       " 'proceed,\"',\n",
       " 'repeated',\n",
       " 'emphasis,',\n",
       " 'business?\"',\n",
       " '\"Nothing',\n",
       " 'whatever,\"',\n",
       " 'forty-two.',\n",
       " 'court_.\"',\n",
       " 'note-book',\n",
       " 'hastily.',\n",
       " '\"Consider',\n",
       " 'verdict,\"',\n",
       " 'trembling',\n",
       " '\"There\\'s',\n",
       " 'evidence',\n",
       " 'Majesty,\"',\n",
       " 'prisoner',\n",
       " 'somebody.\"',\n",
       " 'unfolded',\n",
       " 'verses.\"',\n",
       " '\"Please,',\n",
       " 'Majesty,\"',\n",
       " 'mischief,',\n",
       " 'clapping',\n",
       " 'important',\n",
       " 'evidence',\n",
       " 'ventured',\n",
       " 'trouble,',\n",
       " 'consider',\n",
       " 'verdict.\"',\n",
       " '\"Sentence',\n",
       " 'nonsense!\"',\n",
       " 'sentence',\n",
       " 'tongue!\"',\n",
       " 'brushing',\n",
       " 'fluttered',\n",
       " 'remember',\n",
       " 'adventures',\n",
       " 'thinking',\n",
       " 'wonderful',\n",
       " 'Gutenberg',\n",
       " 'GUTENBERG',\n",
       " 'WONDERLAND',\n",
       " 'associated',\n",
       " 'Produced',\n",
       " 'editions',\n",
       " 'previous',\n",
       " 'one--the',\n",
       " 'editions',\n",
       " 'renamed.',\n",
       " 'Creating',\n",
       " 'editions',\n",
       " 'copyright',\n",
       " 'Foundation',\n",
       " 'distribute',\n",
       " 'permission',\n",
       " 'copyright',\n",
       " 'royalties.',\n",
       " 'license,',\n",
       " 'electronic',\n",
       " 'trademark.',\n",
       " 'Gutenberg',\n",
       " 'registered',\n",
       " 'trademark,',\n",
       " 'specific',\n",
       " 'anything',\n",
       " 'complying',\n",
       " 'creation',\n",
       " 'derivative',\n",
       " 'reports,',\n",
       " 'research.',\n",
       " 'modified',\n",
       " 'away--you',\n",
       " 'ANYTHING',\n",
       " 'trademark',\n",
       " 'license,',\n",
       " 'especially',\n",
       " 'commercial',\n",
       " 'GUTENBERG',\n",
       " 'DISTRIBUTE',\n",
       " 'promoting',\n",
       " 'electronic',\n",
       " 'associated',\n",
       " '\"Project',\n",
       " '(available',\n",
       " 'electronic',\n",
       " 'electronic',\n",
       " 'indicate',\n",
       " 'property',\n",
       " 'agreement.',\n",
       " 'agreement,',\n",
       " 'electronic',\n",
       " 'obtaining',\n",
       " 'electronic',\n",
       " 'agreement,',\n",
       " 'paragraph',\n",
       " '\"Project',\n",
       " 'Gutenberg\"',\n",
       " 'registered',\n",
       " 'trademark.',\n",
       " 'associated',\n",
       " 'electronic',\n",
       " 'agreement.',\n",
       " 'electronic',\n",
       " 'complying',\n",
       " 'agreement.',\n",
       " 'paragraph',\n",
       " 'electronic',\n",
       " 'agreement',\n",
       " 'preserve',\n",
       " 'electronic',\n",
       " 'paragraph',\n",
       " 'Gutenberg',\n",
       " 'Literary',\n",
       " 'Foundation',\n",
       " 'copyright',\n",
       " 'collection',\n",
       " 'electronic',\n",
       " 'individual',\n",
       " 'collection',\n",
       " 'individual',\n",
       " 'copying,',\n",
       " 'displaying',\n",
       " 'creating',\n",
       " 'derivative',\n",
       " 'references',\n",
       " 'Gutenberg',\n",
       " 'removed.',\n",
       " 'promoting',\n",
       " 'electronic',\n",
       " 'compliance',\n",
       " 'agreement',\n",
       " 'associated',\n",
       " 'agreement',\n",
       " 'attached',\n",
       " 'copyright',\n",
       " 'Copyright',\n",
       " 'countries',\n",
       " 'constant',\n",
       " 'addition',\n",
       " 'agreement',\n",
       " 'copying,',\n",
       " 'creating',\n",
       " 'derivative',\n",
       " 'Foundation',\n",
       " 'concerning',\n",
       " 'copyright',\n",
       " 'references',\n",
       " 'Gutenberg:',\n",
       " 'following',\n",
       " 'sentence,',\n",
       " 'immediate',\n",
       " 'whenever',\n",
       " '\"Project',\n",
       " 'Gutenberg\"',\n",
       " 'appears,',\n",
       " '\"Project',\n",
       " 'Gutenberg\"',\n",
       " 'accessed,',\n",
       " 'displayed,',\n",
       " 'performed,',\n",
       " 'anywhere',\n",
       " 'Gutenberg',\n",
       " 'included',\n",
       " 'individual',\n",
       " 'electronic',\n",
       " 'indicating',\n",
       " 'permission',\n",
       " 'copyright',\n",
       " 'holder),',\n",
       " 'charges.',\n",
       " 'providing',\n",
       " '\"Project',\n",
       " 'Gutenberg\"',\n",
       " 'associated',\n",
       " 'appearing',\n",
       " 'paragraphs',\n",
       " 'permission',\n",
       " 'trademark',\n",
       " 'paragraphs',\n",
       " 'individual',\n",
       " 'electronic',\n",
       " 'permission',\n",
       " 'copyright',\n",
       " 'paragraphs',\n",
       " 'additional',\n",
       " 'copyright',\n",
       " 'Additional',\n",
       " 'permission',\n",
       " 'copyright',\n",
       " 'beginning',\n",
       " 'containing',\n",
       " 'associated',\n",
       " 'display,',\n",
       " 'perform,',\n",
       " 'distribute',\n",
       " 'electronic',\n",
       " 'electronic',\n",
       " 'displaying',\n",
       " 'sentence',\n",
       " 'paragraph',\n",
       " 'immediate',\n",
       " 'License.',\n",
       " 'distribute',\n",
       " 'including',\n",
       " 'processing',\n",
       " 'hypertext',\n",
       " 'However,',\n",
       " 'distribute',\n",
       " 'official',\n",
       " 'official',\n",
       " 'additional',\n",
       " 'exporting',\n",
       " 'obtaining',\n",
       " 'request,',\n",
       " 'original',\n",
       " 'alternate',\n",
       " 'specified',\n",
       " 'paragraph',\n",
       " 'viewing,',\n",
       " 'paragraph',\n",
       " 'reasonable',\n",
       " 'providing',\n",
       " 'electronic',\n",
       " 'provided',\n",
       " 'calculated',\n",
       " 'calculate',\n",
       " 'applicable',\n",
       " 'trademark,',\n",
       " 'royalties',\n",
       " 'paragraph',\n",
       " 'Gutenberg',\n",
       " 'Literary',\n",
       " 'payments',\n",
       " 'following',\n",
       " 'required',\n",
       " 'prepare)',\n",
       " 'periodic',\n",
       " 'returns.',\n",
       " 'payments',\n",
       " 'Gutenberg',\n",
       " 'Literary',\n",
       " 'Foundation',\n",
       " 'specified',\n",
       " 'donations',\n",
       " 'Gutenberg',\n",
       " 'Literary',\n",
       " 'notifies',\n",
       " 'License.',\n",
       " 'possessed',\n",
       " 'physical',\n",
       " 'provide,',\n",
       " 'accordance',\n",
       " 'paragraph',\n",
       " 'electronic',\n",
       " 'discovered',\n",
       " 'reported',\n",
       " 'agreement',\n",
       " 'distribute',\n",
       " 'electronic',\n",
       " 'different',\n",
       " 'agreement,',\n",
       " 'permission',\n",
       " 'Gutenberg',\n",
       " 'Literary',\n",
       " 'Foundation',\n",
       " 'trademark.',\n",
       " 'Foundation',\n",
       " 'Gutenberg',\n",
       " 'volunteers',\n",
       " 'employees',\n",
       " 'identify,',\n",
       " 'copyright',\n",
       " 'research',\n",
       " 'transcribe',\n",
       " 'proofread',\n",
       " 'creating',\n",
       " 'efforts,',\n",
       " 'electronic',\n",
       " '\"Defects,\"',\n",
       " 'inaccurate',\n",
       " 'copyright',\n",
       " 'property',\n",
       " 'defective',\n",
       " 'computer',\n",
       " ...]"
      ]
     },
     "execution_count": 71,
     "metadata": {},
     "output_type": "execute_result"
    }
   ],
   "source": [
    "def words_from_file(filename, min_length=0, max_length=100):\n",
    "    output = []\n",
    "    for one_line in open(filename):\n",
    "        for one_word in one_line.split():\n",
    "            if len(one_word) >= min_length and len(one_word) <= max_length:\n",
    "                output.append(one_word)\n",
    "    return output\n",
    "\n",
    "words_from_file('alice-in-wonderland.txt', min_length=8, max_length=10)"
   ]
  },
  {
   "cell_type": "code",
   "execution_count": null,
   "metadata": {},
   "outputs": [],
   "source": [
    "def add_one(a_list=None):\n",
    "    if a_list == None:\n",
    "        a_list = []\n",
    "    a_list.append(1)\n",
    "    return a_list\n"
   ]
  }
 ],
 "metadata": {
  "kernelspec": {
   "display_name": "Python 3",
   "language": "python",
   "name": "python3"
  },
  "language_info": {
   "codemirror_mode": {
    "name": "ipython",
    "version": 3
   },
   "file_extension": ".py",
   "mimetype": "text/x-python",
   "name": "python",
   "nbconvert_exporter": "python",
   "pygments_lexer": "ipython3",
   "version": "3.8.3"
  }
 },
 "nbformat": 4,
 "nbformat_minor": 4
}
