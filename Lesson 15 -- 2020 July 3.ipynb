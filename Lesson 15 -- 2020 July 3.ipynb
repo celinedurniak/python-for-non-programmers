{
 "cells": [
  {
   "cell_type": "markdown",
   "metadata": {},
   "source": [
    "Write a function that gets a directory name, and returns a dict whose keys are the file extensions (i.e., the stuff at the end, like .txt or .jpg, but following the dot) and whose values are the number of files with such an extension. You’ll likely want to use os.listdir or glob.glob, which work a bit differently; the first is easier to use, if you’re not sure!\n",
    "    "
   ]
  },
  {
   "cell_type": "code",
   "execution_count": null,
   "metadata": {},
   "outputs": [],
   "source": []
  },
  {
   "cell_type": "markdown",
   "metadata": {},
   "source": [
    "The random module includes a function, random.choice, that can return a random element from any sequence (including a string). Write a function that takes a list, chooses a random element from it, and then asks the user to repeatedly guess which element has been chosen. When the user guesses correctly, the function returns the number of guesses it took."
   ]
  },
  {
   "cell_type": "markdown",
   "metadata": {},
   "source": [
    "This is a bit harder, but worth trying a bit: The pickle module lets you turn data structures into bytestrings, and back. That’s normally used for storing data on disk and then retrieving it later. You take a data structure and turn it into a bytestring with pickle.dumps, which returns a bytestring. You can then take a bytestring and turn it back into data with pickle.loads. Create a dict in which the keys are strings and the values are ints, strings, and lists (not too many). Use pickle.dumps to turn it into a bytestring. Then turn it back into a data structure… are they the same?"
   ]
  },
  {
   "cell_type": "code",
   "execution_count": null,
   "metadata": {},
   "outputs": [],
   "source": []
  }
 ],
 "metadata": {
  "kernelspec": {
   "display_name": "Python 3",
   "language": "python",
   "name": "python3"
  },
  "language_info": {
   "codemirror_mode": {
    "name": "ipython",
    "version": 3
   },
   "file_extension": ".py",
   "mimetype": "text/x-python",
   "name": "python",
   "nbconvert_exporter": "python",
   "pygments_lexer": "ipython3",
   "version": "3.8.3"
  }
 },
 "nbformat": 4,
 "nbformat_minor": 4
}
