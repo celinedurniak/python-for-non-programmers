{
 "cells": [
  {
   "cell_type": "markdown",
   "metadata": {},
   "source": [
    "Write a function that gets a directory name, and returns a dict whose keys are the file extensions (i.e., the stuff at the end, like .txt or .jpg, but following the dot) and whose values are the number of files with such an extension. You’ll likely want to use os.listdir or glob.glob, which work a bit differently; the first is easier to use, if you’re not sure!\n",
    "    "
   ]
  },
  {
   "cell_type": "code",
   "execution_count": 1,
   "metadata": {},
   "outputs": [
    {
     "name": "stdout",
     "output_type": "stream",
     "text": [
      "['emond.d', 'xinetd.d-migrated2launchd', 'ssh_config.system_default', 'ssh_config.applesaved', 'periodic', 'manpaths', 'services~previous', 'rc.common', 'csh.logout~orig', 'auto_master', 'php.ini.default-5.2-previous~orig', 'csh.login', 'syslog.conf', 'rtadvd.conf~previous', 'syslog.conf~previous', 'krb5.keytab', 'sudoers.d', 'bash_completion.d', 'ssl', 'kern_loader.conf.applesaved', 'nanorc', 'ttys~previous', 'csh.logout', 'aliases.db', 'hosts.lpd', 'bashrc_Apple_Terminal', 'racoon', 'snmp', 'zshrc_Apple_Terminal', 'named.conf.applesaved', 'gettytab', 'master.passwd~orig', 'kern_loader.conf', 'authorization.user_modified', 'networks~orig', 'paths.d', 'asl', 'csh.login~orig', 'rtadvd.conf', 'security', 'protocols~previous', 'group', 'printcap', 'auto_home', 'php.ini.default-previous', 'sudoers~', 'manpaths.d', 'smb.conf.applesaved', 'ppp', 'shells', 'pear.conf-previous', 'crontab', 'slpsa.conf.applesaved', 'rc.common~previous', 'xinetd.d', 'ttys', 'php-fpm.d', 'group~previous', 'php-fpm.conf.default', 'paths', 'rmtab', 'csh.cshrc~orig', 'inetd.conf.applesaved', 'xtab', 'php.ini.default', 'syslog.conf.applesaved', 'localtime', 'pf.conf', '6to4.conf.applesaved', 'CiscoSystemsVPNClient', 'launchd.conf', 'sudoers', 'ftpusers~orig', 'bashrc', 'find.codes~orig', 'auto_master~orig', 'newsyslog.d', 'emacs', 'irbrc', 'pam.d', 'zshrc', 'defaults', 'hosts.equiv', 'networks', 'find.codes', 'rpc~previous', 'apache2', 'autofs.conf', 'ssh', 'ftpusers', 'postgres-reg.ini', 'slpsa.conf', 'profile', 'csh.cshrc', 'fstab.hd~previous', 'ntp.conf.applesaved', 'ntp_opendirectory.conf', 'ssh_config~orig', 'profile~orig', 'authorization.deprecated', 'locate.rc', 'resolv.conf', 'nfs.conf', 'crontab.applesaved', 'dictionaries-common', 'sudoers~orig', 'sudo_lecture', 'asl.conf', 'ttys.applesaved', 'moduli~previous', 'rc.netboot', 'X11', 'afpovertcp.cfg~orig', 'hosts~orig', 'fstab', 'opt', 'nfs.conf~orig', 'hostconfig', 'smb.conf.old', 'kern_loader.conf~previous', 'xinetd.conf.applesaved', 'rtadvd.conf.applesaved', 'sshd_config.system_default', 'hosts', 'efax.rc~previous', 'postfix', 'pf.os', 'pf.anchors', 'php.ini.default-previous~orig', 'ntp.conf', 'php.ini.default-5.2-previous', 'gettytab~orig', 'passwd~orig', 'rpc', 'master.passwd', 'sshd_config~previous', 'fstab.hd', 'openldap', 'aliases', 'paths~orig', 'fonts', 'openssl', 'com.apple.screensharing.agent.launchd', 'wfs', 'hostconfig.system_default', 'shells~orig', 'sshd_config.applesaved', 'dumpdates', 'protocols', 'AFP.conf', 'cups', 'man.conf', 'services', 'mail.rc~orig', 'resolver', 'passwd', 'zprofile', 'afpovertcp.cfg', 'newsyslog.conf', 'bashrc~previous', 'mail.rc', 'notify.conf', 'sysctl.conf.pg']\n"
     ]
    },
    {
     "data": {
      "text/plain": [
       "{}"
      ]
     },
     "execution_count": 1,
     "metadata": {},
     "output_type": "execute_result"
    }
   ],
   "source": [
    "import os\n",
    "\n",
    "def ext_counter(dirname):\n",
    "    output = {}\n",
    "    \n",
    "    print(os.listdir(dirname))\n",
    "    \n",
    "    return output\n",
    "\n",
    "ext_counter('/etc/')"
   ]
  },
  {
   "cell_type": "markdown",
   "metadata": {},
   "source": [
    "The random module includes a function, random.choice, that can return a random element from any sequence (including a string). Write a function that takes a list, chooses a random element from it, and then asks the user to repeatedly guess which element has been chosen. When the user guesses correctly, the function returns the number of guesses it took."
   ]
  },
  {
   "cell_type": "markdown",
   "metadata": {},
   "source": [
    "This is a bit harder, but worth trying a bit: The pickle module lets you turn data structures into bytestrings, and back. That’s normally used for storing data on disk and then retrieving it later. You take a data structure and turn it into a bytestring with pickle.dumps, which returns a bytestring. You can then take a bytestring and turn it back into data with pickle.loads. Create a dict in which the keys are strings and the values are ints, strings, and lists (not too many). Use pickle.dumps to turn it into a bytestring. Then turn it back into a data structure… are they the same?"
   ]
  },
  {
   "cell_type": "code",
   "execution_count": null,
   "metadata": {},
   "outputs": [],
   "source": []
  }
 ],
 "metadata": {
  "kernelspec": {
   "display_name": "Python 3",
   "language": "python",
   "name": "python3"
  },
  "language_info": {
   "codemirror_mode": {
    "name": "ipython",
    "version": 3
   },
   "file_extension": ".py",
   "mimetype": "text/x-python",
   "name": "python",
   "nbconvert_exporter": "python",
   "pygments_lexer": "ipython3",
   "version": "3.8.3"
  }
 },
 "nbformat": 4,
 "nbformat_minor": 4
}
