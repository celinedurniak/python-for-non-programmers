{
 "cells": [
  {
   "cell_type": "markdown",
   "metadata": {},
   "source": [
    "Write a program that asks the user to enter sentences, one at a time. Stop asking when the user enters an empty string. Write each word that the user entered on a separate line of a file, followed by a space and the number of vowels that the user wrote.\n",
    "\n",
    "So if the user enters ‘this is a test’ and ‘only kidding’, then the file should look like:\n",
    "\n",
    "    this 1\n",
    "    is 1\n",
    "    a 1\n",
    "    test 1\n",
    "    only 1\n",
    "    kidding 2"
   ]
  },
  {
   "cell_type": "code",
   "execution_count": 1,
   "metadata": {},
   "outputs": [
    {
     "name": "stdout",
     "output_type": "stream",
     "text": [
      "Enter a sentence: this is a test\n",
      "Enter a sentence: this is a very important test\n",
      "Enter a sentence: a test should have no encyclopedias attached\n",
      "Enter a sentence: \n"
     ]
    }
   ],
   "source": [
    "with open('vowel_counts.txt', 'w') as outfile:\n",
    "    while True:\n",
    "        s = input(\"Enter a sentence: \").strip()\n",
    "        \n",
    "        if s == '':\n",
    "            break\n",
    "            \n",
    "        for one_word in s.split():\n",
    "            total = 0\n",
    "            \n",
    "            for one_letter in one_word:\n",
    "                if one_letter in 'aeiou':\n",
    "                    total += 1\n",
    "                    \n",
    "            outfile.write(f'{one_word} {total}\\n')"
   ]
  },
  {
   "cell_type": "code",
   "execution_count": 5,
   "metadata": {},
   "outputs": [
    {
     "name": "stdout",
     "output_type": "stream",
     "text": [
      "Enter a sentence: this this this test test test\n",
      "Enter a sentence: this this this also test test test\n",
      "Enter a sentence: \n"
     ]
    }
   ],
   "source": [
    "counts = {}\n",
    "\n",
    "while True:\n",
    "    s = input(\"Enter a sentence: \").strip()\n",
    "\n",
    "    if s == '':\n",
    "        break\n",
    "\n",
    "    for one_word in s.split():\n",
    "        total = 0\n",
    "\n",
    "        for one_letter in one_word:\n",
    "            if one_letter in 'aeiou':\n",
    "                total += 1\n",
    "\n",
    "        counts[one_word] = total\n",
    "        \n",
    "with open('dict-counts.txt', 'w') as outfile:\n",
    "    for key, value in counts.items():\n",
    "        outfile.write(f'{key} {value}\\n')\n"
   ]
  },
  {
   "cell_type": "code",
   "execution_count": 6,
   "metadata": {},
   "outputs": [
    {
     "name": "stdout",
     "output_type": "stream",
     "text": [
      "this 1\r\n",
      "test 1\r\n",
      "also 2\r\n"
     ]
    }
   ],
   "source": [
    "!cat dict-counts.txt"
   ]
  },
  {
   "cell_type": "code",
   "execution_count": 2,
   "metadata": {},
   "outputs": [
    {
     "name": "stdout",
     "output_type": "stream",
     "text": [
      "this 1\r\n",
      "is 1\r\n",
      "a 1\r\n",
      "test 1\r\n",
      "this 1\r\n",
      "is 1\r\n",
      "a 1\r\n",
      "very 1\r\n",
      "important 3\r\n",
      "test 1\r\n",
      "a 1\r\n",
      "test 1\r\n",
      "should 2\r\n",
      "have 2\r\n",
      "no 1\r\n",
      "encyclopedias 5\r\n",
      "attached 3\r\n"
     ]
    }
   ],
   "source": [
    "!cat vowel_counts.txt"
   ]
  },
  {
   "cell_type": "markdown",
   "metadata": {},
   "source": [
    "Let’s pretend that we’re creating a sales report for our company. Repeatedly ask the user to enter a product name and a number of units sold. (The products and units don’t matter, but should be separated by whitespace.) When the user enters a blank line, stop asking. Write this into a CSV-like file (i.e., with a comma separating the two pieces of information). If the file has a csv extension, see if you can open it with Excel on your computer."
   ]
  },
  {
   "cell_type": "code",
   "execution_count": 7,
   "metadata": {},
   "outputs": [
    {
     "name": "stdout",
     "output_type": "stream",
     "text": [
      "Enter product and number: books 10\n",
      "Enter product and number: coffee 20\n",
      "Enter product and number: tea 25\n",
      "Enter product and number: computers 2\n",
      "Enter product and number: lamp 4\n",
      "Enter product and number: \n"
     ]
    }
   ],
   "source": [
    "with open('sales-report.csv', 'w') as outfile:\n",
    "    while True:\n",
    "        s = input(\"Enter product and number: \").strip()\n",
    "        \n",
    "        if s == '':\n",
    "            break\n",
    "            \n",
    "        product, number = s.split()   # unpacking!\n",
    "        \n",
    "        outfile.write(f'{product},{number}\\n')"
   ]
  },
  {
   "cell_type": "code",
   "execution_count": 8,
   "metadata": {},
   "outputs": [
    {
     "name": "stdout",
     "output_type": "stream",
     "text": [
      "books,10\r\n",
      "coffee,20\r\n",
      "tea,25\r\n",
      "computers,2\r\n",
      "lamp,4\r\n"
     ]
    }
   ],
   "source": [
    "!cat sales-report.csv"
   ]
  },
  {
   "cell_type": "code",
   "execution_count": 9,
   "metadata": {},
   "outputs": [],
   "source": [
    "!open sales-report.csv"
   ]
  },
  {
   "cell_type": "code",
   "execution_count": null,
   "metadata": {},
   "outputs": [],
   "source": []
  },
  {
   "cell_type": "code",
   "execution_count": 16,
   "metadata": {
    "scrolled": true
   },
   "outputs": [
    {
     "name": "stdout",
     "output_type": "stream",
     "text": [
      "Enter product and number: books 10\n",
      "Enter product and number: ice cream 20\n",
      "Enter product and number: \n"
     ]
    }
   ],
   "source": [
    "with open('sales-report.csv', 'w') as outfile:\n",
    "    while True:\n",
    "        s = input(\"Enter product and number: \").strip()\n",
    "        \n",
    "        if s == '':\n",
    "            break\n",
    "            \n",
    "        product, number = s.rsplit(None, 1) # split on whitespace (None), max of 1 time\n",
    "        \n",
    "        outfile.write(f'{product},{number}\\n')"
   ]
  },
  {
   "cell_type": "code",
   "execution_count": 18,
   "metadata": {},
   "outputs": [
    {
     "name": "stdout",
     "output_type": "stream",
     "text": [
      "books,10\r\n",
      "ice cream,20\r\n"
     ]
    }
   ],
   "source": [
    "!cat sales-report.csv"
   ]
  },
  {
   "cell_type": "code",
   "execution_count": 17,
   "metadata": {},
   "outputs": [],
   "source": [
    "!open sales-report.csv"
   ]
  },
  {
   "cell_type": "code",
   "execution_count": 11,
   "metadata": {},
   "outputs": [
    {
     "data": {
      "text/plain": [
       "'ice cream 20'"
      ]
     },
     "execution_count": 11,
     "metadata": {},
     "output_type": "execute_result"
    }
   ],
   "source": [
    "s"
   ]
  },
  {
   "cell_type": "code",
   "execution_count": 15,
   "metadata": {},
   "outputs": [
    {
     "data": {
      "text/plain": [
       "['ice', 'cream 20']"
      ]
     },
     "execution_count": 15,
     "metadata": {},
     "output_type": "execute_result"
    }
   ],
   "source": [
    "s.split(None, 1)"
   ]
  },
  {
   "cell_type": "code",
   "execution_count": 20,
   "metadata": {},
   "outputs": [
    {
     "name": "stdout",
     "output_type": "stream",
     "text": [
      "Enter product and number: books 10\n",
      "Enter product and number: ice cream 20\n",
      "Enter product and number: \n"
     ]
    }
   ],
   "source": [
    "with open('sales-report.csv', 'w') as outfile:\n",
    "    while True:\n",
    "        s = input(\"Enter product and number: \").strip()\n",
    "        \n",
    "        if s == '':\n",
    "            break\n",
    "            \n",
    "        sep_index = s.rfind(' ')\n",
    "        product = s[:sep_index]\n",
    "        number = s[sep_index+1:]\n",
    "        \n",
    "        outfile.write(f'{product},{number}\\n')"
   ]
  },
  {
   "cell_type": "code",
   "execution_count": 21,
   "metadata": {},
   "outputs": [
    {
     "name": "stdout",
     "output_type": "stream",
     "text": [
      "books,10\r\n",
      "ice cream,20\r\n"
     ]
    }
   ],
   "source": [
    "!cat sales-report.csv"
   ]
  },
  {
   "cell_type": "code",
   "execution_count": 22,
   "metadata": {},
   "outputs": [],
   "source": [
    "# \"def\" defines a new function\n",
    "\n",
    "def hello():\n",
    "    print('Hello!')"
   ]
  },
  {
   "cell_type": "code",
   "execution_count": 23,
   "metadata": {},
   "outputs": [
    {
     "name": "stdout",
     "output_type": "stream",
     "text": [
      "Hello!\n"
     ]
    }
   ],
   "source": [
    "hello()"
   ]
  },
  {
   "cell_type": "code",
   "execution_count": 24,
   "metadata": {},
   "outputs": [],
   "source": [
    "# redefine the function by using \"def\" and the same function name again\n",
    "# the previous version WILL NO LONGER BE AVAILABLE! \n",
    "\n",
    "def hello(name):   # \"name\" is a parameter, a variable that gets its value from the caller\n",
    "    print(f'Hello, {name}!')"
   ]
  },
  {
   "cell_type": "code",
   "execution_count": 25,
   "metadata": {},
   "outputs": [
    {
     "name": "stdout",
     "output_type": "stream",
     "text": [
      "Hello, world!\n"
     ]
    }
   ],
   "source": [
    "hello('world')  # the value we pass to the function is an \"argument\""
   ]
  },
  {
   "cell_type": "code",
   "execution_count": 26,
   "metadata": {},
   "outputs": [
    {
     "name": "stdout",
     "output_type": "stream",
     "text": [
      "Hello, Reuven!\n"
     ]
    }
   ],
   "source": [
    "hello('Reuven')"
   ]
  },
  {
   "cell_type": "code",
   "execution_count": 27,
   "metadata": {},
   "outputs": [
    {
     "ename": "TypeError",
     "evalue": "hello() missing 1 required positional argument: 'name'",
     "output_type": "error",
     "traceback": [
      "\u001b[0;31m---------------------------------------------------------------------------\u001b[0m",
      "\u001b[0;31mTypeError\u001b[0m                                 Traceback (most recent call last)",
      "\u001b[0;32m<ipython-input-27-2789573353aa>\u001b[0m in \u001b[0;36m<module>\u001b[0;34m\u001b[0m\n\u001b[0;32m----> 1\u001b[0;31m \u001b[0mhello\u001b[0m\u001b[0;34m(\u001b[0m\u001b[0;34m)\u001b[0m   \u001b[0;31m# no arguments\u001b[0m\u001b[0;34m\u001b[0m\u001b[0;34m\u001b[0m\u001b[0m\n\u001b[0m",
      "\u001b[0;31mTypeError\u001b[0m: hello() missing 1 required positional argument: 'name'"
     ]
    }
   ],
   "source": [
    "hello()   # no arguments"
   ]
  },
  {
   "cell_type": "code",
   "execution_count": 28,
   "metadata": {},
   "outputs": [],
   "source": [
    "x = len('abcd')"
   ]
  },
  {
   "cell_type": "code",
   "execution_count": 29,
   "metadata": {},
   "outputs": [
    {
     "data": {
      "text/plain": [
       "4"
      ]
     },
     "execution_count": 29,
     "metadata": {},
     "output_type": "execute_result"
    }
   ],
   "source": [
    "x"
   ]
  },
  {
   "cell_type": "code",
   "execution_count": 30,
   "metadata": {},
   "outputs": [
    {
     "name": "stdout",
     "output_type": "stream",
     "text": [
      "Hello, world!\n"
     ]
    }
   ],
   "source": [
    "x = hello('world')"
   ]
  },
  {
   "cell_type": "code",
   "execution_count": 31,
   "metadata": {},
   "outputs": [],
   "source": [
    "x"
   ]
  },
  {
   "cell_type": "code",
   "execution_count": 32,
   "metadata": {},
   "outputs": [
    {
     "name": "stdout",
     "output_type": "stream",
     "text": [
      "None\n"
     ]
    }
   ],
   "source": [
    "print(x)"
   ]
  },
  {
   "cell_type": "code",
   "execution_count": 33,
   "metadata": {},
   "outputs": [],
   "source": [
    "# Don't print from your functions -- rather *return* values from your functions\n",
    "# (Except for debugging and when the function is meant to print things on the screen)\n",
    "\n",
    "def hello(name):   # \"name\" is a parameter, a variable that gets its value from the caller\n",
    "    return f'Hello, {name}!'"
   ]
  },
  {
   "cell_type": "code",
   "execution_count": 35,
   "metadata": {},
   "outputs": [],
   "source": [
    "x = hello('world')"
   ]
  },
  {
   "cell_type": "code",
   "execution_count": 36,
   "metadata": {},
   "outputs": [
    {
     "data": {
      "text/plain": [
       "'Hello, world!'"
      ]
     },
     "execution_count": 36,
     "metadata": {},
     "output_type": "execute_result"
    }
   ],
   "source": [
    "x"
   ]
  },
  {
   "cell_type": "code",
   "execution_count": 37,
   "metadata": {},
   "outputs": [
    {
     "name": "stdout",
     "output_type": "stream",
     "text": [
      "Hello, world!\n"
     ]
    }
   ],
   "source": [
    "print(hello('world'))"
   ]
  },
  {
   "cell_type": "code",
   "execution_count": null,
   "metadata": {},
   "outputs": [],
   "source": []
  }
 ],
 "metadata": {
  "kernelspec": {
   "display_name": "Python 3",
   "language": "python",
   "name": "python3"
  },
  "language_info": {
   "codemirror_mode": {
    "name": "ipython",
    "version": 3
   },
   "file_extension": ".py",
   "mimetype": "text/x-python",
   "name": "python",
   "nbconvert_exporter": "python",
   "pygments_lexer": "ipython3",
   "version": "3.8.3"
  }
 },
 "nbformat": 4,
 "nbformat_minor": 4
}
