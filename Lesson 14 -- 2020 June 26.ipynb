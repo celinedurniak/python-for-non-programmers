{
 "cells": [
  {
   "cell_type": "markdown",
   "metadata": {},
   "source": [
    "1.    Write a function that takes a dict as an argument. It returns a dict with the same keys, but in which the values have all been doubled. Unless, of course, someone passes a second (optional) argument, “factor”, in which the values will be multiplied by the factor."
   ]
  },
  {
   "cell_type": "code",
   "execution_count": 1,
   "metadata": {},
   "outputs": [
    {
     "name": "stdout",
     "output_type": "stream",
     "text": [
      "{'a': 2, 'b': 4, 'c': 6}\n",
      "{'a': 3, 'b': 6, 'c': 9}\n"
     ]
    }
   ],
   "source": [
    "d = {'a':1, 'b':2, 'c':3}\n",
    "\n",
    "def multidict(the_dict, factor=2):\n",
    "    output = {}\n",
    "    \n",
    "    for key, value in the_dict.items():\n",
    "        output[key] = value * factor\n",
    "    \n",
    "    return output\n",
    "\n",
    "new_d = multidict(d)\n",
    "print(new_d)\n",
    "\n",
    "# new_d should be {'a':2, 'b':4, 'c':6}\n",
    "\n",
    "new_d = multidict(d, factor=3)\n",
    "print(new_d)\n",
    "\n",
    "# new_d should be {'a':3, 'b':6, 'c':9}"
   ]
  },
  {
   "cell_type": "code",
   "execution_count": 2,
   "metadata": {},
   "outputs": [
    {
     "name": "stdout",
     "output_type": "stream",
     "text": [
      "{'a': 2, 'b': 4, 'c': 6}\n"
     ]
    }
   ],
   "source": [
    "def multidict(the_dict, factor=2):\n",
    "    for key, value in the_dict.items():\n",
    "        the_dict[key] = value * factor  # we're changing our input dict (the argument)\n",
    "    \n",
    "    return the_dict\n",
    "\n",
    "new_d = multidict(d)\n",
    "print(new_d)\n"
   ]
  },
  {
   "cell_type": "code",
   "execution_count": 3,
   "metadata": {},
   "outputs": [
    {
     "data": {
      "text/plain": [
       "{'a': 2, 'b': 4, 'c': 6}"
      ]
     },
     "execution_count": 3,
     "metadata": {},
     "output_type": "execute_result"
    }
   ],
   "source": [
    "d"
   ]
  },
  {
   "cell_type": "markdown",
   "metadata": {},
   "source": [
    "2.    Write a function that takes a filename (string) as an argument, and returns a dict. The returned dict’s keys will be numbers, indicating word lengths, and the values will also be integers, indicating how many words in the file."
   ]
  },
  {
   "cell_type": "markdown",
   "metadata": {},
   "source": [
    "3.    Write a function that takes three arguments: A list of numbers and two strings. The two string arguments are the names of output files. The function will iterate over the list, writing all of the even numbers into the first file, and all of the odd numbers into the second file. The function doesn’t have to return anything."
   ]
  },
  {
   "cell_type": "code",
   "execution_count": null,
   "metadata": {},
   "outputs": [],
   "source": []
  }
 ],
 "metadata": {
  "kernelspec": {
   "display_name": "Python 3",
   "language": "python",
   "name": "python3"
  },
  "language_info": {
   "codemirror_mode": {
    "name": "ipython",
    "version": 3
   },
   "file_extension": ".py",
   "mimetype": "text/x-python",
   "name": "python",
   "nbconvert_exporter": "python",
   "pygments_lexer": "ipython3",
   "version": "3.8.3"
  }
 },
 "nbformat": 4,
 "nbformat_minor": 4
}
