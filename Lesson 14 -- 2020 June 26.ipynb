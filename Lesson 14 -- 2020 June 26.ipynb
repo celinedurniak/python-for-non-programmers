{
 "cells": [
  {
   "cell_type": "markdown",
   "metadata": {},
   "source": [
    "1.    Write a function that takes a dict as an argument. It returns a dict with the same keys, but in which the values have all been doubled. Unless, of course, someone passes a second (optional) argument, “factor”, in which the values will be multiplied by the factor."
   ]
  },
  {
   "cell_type": "code",
   "execution_count": 1,
   "metadata": {},
   "outputs": [
    {
     "name": "stdout",
     "output_type": "stream",
     "text": [
      "{'a': 2, 'b': 4, 'c': 6}\n",
      "{'a': 3, 'b': 6, 'c': 9}\n"
     ]
    }
   ],
   "source": [
    "d = {'a':1, 'b':2, 'c':3}\n",
    "\n",
    "def multidict(the_dict, factor=2):\n",
    "    output = {}\n",
    "    \n",
    "    for key, value in the_dict.items():\n",
    "        output[key] = value * factor\n",
    "    \n",
    "    return output\n",
    "\n",
    "new_d = multidict(d)\n",
    "print(new_d)\n",
    "\n",
    "# new_d should be {'a':2, 'b':4, 'c':6}\n",
    "\n",
    "new_d = multidict(d, factor=3)\n",
    "print(new_d)\n",
    "\n",
    "# new_d should be {'a':3, 'b':6, 'c':9}"
   ]
  },
  {
   "cell_type": "code",
   "execution_count": 2,
   "metadata": {},
   "outputs": [
    {
     "name": "stdout",
     "output_type": "stream",
     "text": [
      "{'a': 2, 'b': 4, 'c': 6}\n"
     ]
    }
   ],
   "source": [
    "def multidict(the_dict, factor=2):\n",
    "    for key, value in the_dict.items():\n",
    "        the_dict[key] = value * factor  # we're changing our input dict (the argument)\n",
    "    \n",
    "    return the_dict\n",
    "\n",
    "new_d = multidict(d)\n",
    "print(new_d)\n"
   ]
  },
  {
   "cell_type": "code",
   "execution_count": 3,
   "metadata": {},
   "outputs": [
    {
     "data": {
      "text/plain": [
       "{'a': 2, 'b': 4, 'c': 6}"
      ]
     },
     "execution_count": 3,
     "metadata": {},
     "output_type": "execute_result"
    }
   ],
   "source": [
    "d"
   ]
  },
  {
   "cell_type": "markdown",
   "metadata": {},
   "source": [
    "2.    Write a function that takes a filename (string) as an argument, and returns a dict. The returned dict’s keys will be numbers, indicating word lengths, and the values will also be integers, indicating how many words in the file."
   ]
  },
  {
   "cell_type": "code",
   "execution_count": 4,
   "metadata": {},
   "outputs": [],
   "source": [
    "def file_word_lengths(filename):\n",
    "    output = {}\n",
    "    \n",
    "    for one_line in open(filename):\n",
    "        for one_word in one_line.split():\n",
    "            word_length = len(one_word)\n",
    "\n",
    "            if word_length in output:\n",
    "                output[word_length] += 1   # not the first time, so add 1 to the count\n",
    "            else:\n",
    "                output[word_length] = 1  # first time encountering this word length\n",
    "           \n",
    "    \n",
    "    return output"
   ]
  },
  {
   "cell_type": "code",
   "execution_count": 5,
   "metadata": {},
   "outputs": [
    {
     "data": {
      "text/plain": [
       "{1: 476,\n",
       " 6: 760,\n",
       " 7: 560,\n",
       " 9: 332,\n",
       " 10: 188,\n",
       " 16: 11,\n",
       " 17: 1,\n",
       " 15: 13,\n",
       " 5: 823,\n",
       " 13: 47,\n",
       " 11: 89,\n",
       " 8: 539,\n",
       " 3: 1499,\n",
       " 4: 1372,\n",
       " 2: 1200,\n",
       " 12: 45,\n",
       " 14: 25,\n",
       " 18: 11,\n",
       " 21: 16,\n",
       " 23: 7,\n",
       " 29: 3,\n",
       " 19: 15,\n",
       " 22: 12,\n",
       " 20: 15,\n",
       " 24: 1,\n",
       " 35: 9,\n",
       " 31: 4,\n",
       " 36: 5,\n",
       " 28: 1,\n",
       " 33: 3,\n",
       " 32: 4,\n",
       " 25: 2,\n",
       " 26: 2,\n",
       " 34: 4,\n",
       " 27: 2,\n",
       " 687: 1,\n",
       " 37: 1,\n",
       " 39: 1,\n",
       " 45: 1}"
      ]
     },
     "execution_count": 5,
     "metadata": {},
     "output_type": "execute_result"
    }
   ],
   "source": [
    "file_word_lengths('/Users/reuven/Consulting/Manning/python-workout/manuscript/3-lists.adoc')"
   ]
  },
  {
   "cell_type": "markdown",
   "metadata": {},
   "source": [
    "3.    Write a function that takes three arguments: A list of numbers and two strings. The two string arguments are the names of output files. The function will iterate over the list, writing all of the even numbers into the first file, and all of the odd numbers into the second file. The function doesn’t have to return anything."
   ]
  },
  {
   "cell_type": "code",
   "execution_count": 6,
   "metadata": {},
   "outputs": [],
   "source": [
    "def even_odd_writer(numbers, even_filename, odd_filename):\n",
    "    with open(even_filename, 'w') as even_file, open(odd_filename, 'w') as odd_file:\n",
    "        for one_number in numbers:\n",
    "            if one_number % 2 == 1:  # odd number, remainder from dividing by 2 is 1\n",
    "                odd_file.write(f'{one_number}\\n')\n",
    "            else:\n",
    "                even_file.write(f'{one_number}\\n')\n",
    "                \n",
    "even_odd_writer([10, 11, 12, 13, 15, 200, 203, 301, 308],\n",
    "               'even_numbers.txt', 'odd_number.txt')"
   ]
  },
  {
   "cell_type": "code",
   "execution_count": 7,
   "metadata": {},
   "outputs": [
    {
     "name": "stdout",
     "output_type": "stream",
     "text": [
      "10\r\n",
      "12\r\n",
      "200\r\n",
      "308\r\n"
     ]
    }
   ],
   "source": [
    "!cat even_numbers.txt"
   ]
  },
  {
   "cell_type": "code",
   "execution_count": 8,
   "metadata": {},
   "outputs": [
    {
     "name": "stdout",
     "output_type": "stream",
     "text": [
      "11\r\n",
      "13\r\n",
      "15\r\n",
      "203\r\n",
      "301\r\n"
     ]
    }
   ],
   "source": [
    "!cat odd_number.txt"
   ]
  },
  {
   "cell_type": "code",
   "execution_count": 9,
   "metadata": {},
   "outputs": [],
   "source": [
    "# DRY -- don't repeat yourself\n",
    "\n",
    "# (1) repeated or almost-repeated code -- replace it with a loop\n",
    "# (2) functionality that exists in several places in a program -- write a function\n",
    "# (3) functionality that exists in SEVERAL DIFFERENT PROGRAMS"
   ]
  },
  {
   "cell_type": "code",
   "execution_count": 10,
   "metadata": {},
   "outputs": [],
   "source": [
    "# library of functions -- commonly used by many different programs"
   ]
  },
  {
   "cell_type": "code",
   "execution_count": null,
   "metadata": {},
   "outputs": [],
   "source": []
  }
 ],
 "metadata": {
  "kernelspec": {
   "display_name": "Python 3",
   "language": "python",
   "name": "python3"
  },
  "language_info": {
   "codemirror_mode": {
    "name": "ipython",
    "version": 3
   },
   "file_extension": ".py",
   "mimetype": "text/x-python",
   "name": "python",
   "nbconvert_exporter": "python",
   "pygments_lexer": "ipython3",
   "version": "3.8.3"
  }
 },
 "nbformat": 4,
 "nbformat_minor": 4
}
