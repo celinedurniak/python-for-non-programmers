{
 "cells": [
  {
   "cell_type": "code",
   "execution_count": 8,
   "metadata": {},
   "outputs": [
    {
     "name": "stdout",
     "output_type": "stream",
     "text": [
      "Enter a search string: is\n",
      "\"is\" is in this!\n",
      "\"is\" is in is!\n",
      "Matching words: ['this', 'is']\n"
     ]
    }
   ],
   "source": [
    "#     Create a list containing words (i.e., strings). Ask the user to\n",
    "#     enter a search string. Print all of the words in that list\n",
    "#     containing the user’s input.\n",
    "\n",
    "words = ['this', 'is', 'a', 'bunch', 'of', 'words', 'for',\n",
    "        'my', 'class']\n",
    "found = []\n",
    "\n",
    "search_string = input(\"Enter a search string: \").strip()\n",
    "\n",
    "for one_word in words:\n",
    "    if search_string in one_word:\n",
    "        print(f'\"{search_string}\" is in {one_word}!')\n",
    "        found.append(one_word)\n",
    "#     else:\n",
    "#         print(f'{search_string} is not in {one_word}')\n",
    "\n",
    "print(f'Matching words: {found}')"
   ]
  },
  {
   "cell_type": "code",
   "execution_count": null,
   "metadata": {},
   "outputs": [],
   "source": []
  },
  {
   "cell_type": "code",
   "execution_count": null,
   "metadata": {},
   "outputs": [],
   "source": [
    "#     Create an empty list. Ask the user to enter inputs, one at a\n",
    "#     time. If the user enters an empty string, stop asking. If the user\n",
    "#     enters something that can be turned into an integer, then do\n",
    "#     so. After exiting from the loop, print (1) the average value in\n",
    "#     the list, (2) the values that are below the average, and (3) the\n",
    "#     values that are above the average. Note: Don’t use the sum\n",
    "#     function here; I want you to get even more practice with loops!\n",
    "\n",
    "numbers = []"
   ]
  },
  {
   "cell_type": "code",
   "execution_count": null,
   "metadata": {},
   "outputs": [],
   "source": [
    "#     Ask the user to enter a string. Then ask the user to enter two\n",
    "#     search strings. Print how many times each of the search strings\n",
    "#     appears in the user’s input string. So if the string is this is a\n",
    "#     test and the search strings are i and s, then the program should\n",
    "#     say that i was found 2 times and s was found 3 times.\n",
    "# # "
   ]
  }
 ],
 "metadata": {
  "kernelspec": {
   "display_name": "Python 3",
   "language": "python",
   "name": "python3"
  },
  "language_info": {
   "codemirror_mode": {
    "name": "ipython",
    "version": 3
   },
   "file_extension": ".py",
   "mimetype": "text/x-python",
   "name": "python",
   "nbconvert_exporter": "python",
   "pygments_lexer": "ipython3",
   "version": "3.7.7"
  }
 },
 "nbformat": 4,
 "nbformat_minor": 2
}
