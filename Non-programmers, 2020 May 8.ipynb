{
 "cells": [
  {
   "cell_type": "code",
   "execution_count": 8,
   "metadata": {},
   "outputs": [
    {
     "name": "stdout",
     "output_type": "stream",
     "text": [
      "Enter a search string: is\n",
      "\"is\" is in this!\n",
      "\"is\" is in is!\n",
      "Matching words: ['this', 'is']\n"
     ]
    }
   ],
   "source": [
    "#     Create a list containing words (i.e., strings). Ask the user to\n",
    "#     enter a search string. Print all of the words in that list\n",
    "#     containing the user’s input.\n",
    "\n",
    "words = ['this', 'is', 'a', 'bunch', 'of', 'words', 'for',\n",
    "        'my', 'class']\n",
    "found = []\n",
    "\n",
    "search_string = input(\"Enter a search string: \").strip()\n",
    "\n",
    "for one_word in words:\n",
    "    if search_string in one_word:\n",
    "        print(f'\"{search_string}\" is in {one_word}!')\n",
    "        found.append(one_word)\n",
    "#     else:\n",
    "#         print(f'{search_string} is not in {one_word}')\n",
    "\n",
    "print(f'Matching words: {found}')"
   ]
  },
  {
   "cell_type": "code",
   "execution_count": null,
   "metadata": {},
   "outputs": [],
   "source": []
  },
  {
   "cell_type": "code",
   "execution_count": 11,
   "metadata": {
    "scrolled": true
   },
   "outputs": [
    {
     "name": "stdout",
     "output_type": "stream",
     "text": [
      "Enter a number: 10\n",
      "Enter a number: 15\n",
      "Enter a number: 38\n",
      "Enter a number: 75\n",
      "Enter a number: 5\n",
      "Enter a number: abc\n",
      "Invalid input abc\n",
      "Enter a number: \n",
      "10 is less than the mean\n",
      "15 is less than the mean\n",
      "38 is bigger than the mean\n",
      "75 is bigger than the mean\n",
      "5 is less than the mean\n"
     ]
    }
   ],
   "source": [
    "#     Create an empty list. Ask the user to enter inputs, one at a\n",
    "#     time. If the user enters an empty string, stop asking. If the user\n",
    "#     enters something that can be turned into an integer, then do\n",
    "#     so. After exiting from the loop, print (1) the average value in\n",
    "#     the list, (2) the values that are below the average, and (3) the\n",
    "#     values that are above the average. Note: Don’t use the sum\n",
    "#     function here; I want you to get even more practice with loops!\n",
    "\n",
    "numbers = []\n",
    "total = 0\n",
    "\n",
    "while True:\n",
    "    s = input(\"Enter a number: \").strip()\n",
    "    \n",
    "    if s == '':\n",
    "        break\n",
    "        \n",
    "    elif s.isdigit():\n",
    "        numbers.append(int(s))\n",
    "        total += int(s)\n",
    "        \n",
    "    else:\n",
    "        print(f'Invalid input {s}')\n",
    "        \n",
    "for one_number in numbers:\n",
    "    if one_number > (total / len(numbers)):\n",
    "        print(f'{one_number} is bigger than the mean')\n",
    "    elif one_number == (total / len(numbers)):\n",
    "        pripnt(f'{one_number} == the mean')\n",
    "    else:\n",
    "        print(f'{one_number} is less than the mean')"
   ]
  },
  {
   "cell_type": "code",
   "execution_count": 10,
   "metadata": {},
   "outputs": [
    {
     "data": {
      "text/plain": [
       "[10, 20]"
      ]
     },
     "execution_count": 10,
     "metadata": {},
     "output_type": "execute_result"
    }
   ],
   "source": [
    "numbers"
   ]
  },
  {
   "cell_type": "code",
   "execution_count": 12,
   "metadata": {},
   "outputs": [
    {
     "name": "stdout",
     "output_type": "stream",
     "text": [
      "Enter a string: this is a test only a test\n",
      "Enter search string 1: st\n",
      "Enter search string 2: a\n",
      "I found st 2 times\n",
      "I found a 2 times\n"
     ]
    }
   ],
   "source": [
    "#     Ask the user to enter a string. Then ask the user to enter two\n",
    "#     search strings. Print how many times each of the search strings\n",
    "#     appears in the user’s input string. So if the string is this is a\n",
    "#     test and the search strings are i and s, then the program should\n",
    "#     say that i was found 2 times and s was found 3 times.\n",
    "# # \n",
    "\n",
    "s = input(\"Enter a string: \").strip()\n",
    "search1 = input(\"Enter search string 1: \").strip()\n",
    "search2 = input(\"Enter search string 2: \").strip()\n",
    "\n",
    "print(f'I found {search1} {s.count(search1)} times')\n",
    "print(f'I found {search2} {s.count(search2)} times')"
   ]
  },
  {
   "cell_type": "code",
   "execution_count": 16,
   "metadata": {},
   "outputs": [
    {
     "name": "stdout",
     "output_type": "stream",
     "text": [
      "th\n",
      "t\n",
      "h\n",
      "\n",
      "\n",
      "\n",
      "\n",
      "\n",
      "\n",
      "\n",
      "\n",
      "\n",
      "\n",
      "\n",
      "\n",
      "\n",
      "\n",
      "\n",
      "\n",
      "\n",
      "\n",
      "\n",
      "\n",
      "\n",
      "\n",
      "\n",
      "\n",
      "\n",
      "\n",
      "\n",
      "\n",
      "\n",
      "\n",
      "\n",
      "\n",
      "\n",
      "\n",
      "\n",
      "\n",
      "\n",
      "\n",
      "\n",
      "\n",
      "\n",
      "\n",
      "\n",
      "\n",
      "\n",
      "\n",
      "\n",
      "\n",
      "\n",
      "I found st 0 times\n",
      "I found a 0 times\n"
     ]
    }
   ],
   "source": [
    "index = 0\n",
    "total1 = 0\n",
    "total2 = 0\n",
    "\n",
    "for one_letter in s:\n",
    "    print(s[index:len(search1)])\n",
    "    print(s[index:len(search2)])\n",
    "    \n",
    "    if s[index:len(search1)] == search1:\n",
    "        total1 += 1\n",
    "    if s[index:len(search2)] == search2:\n",
    "        total2 += 1\n",
    "        \n",
    "    index += 1\n",
    "   \n",
    "print(f'I found {search1} {total1} times')\n",
    "print(f'I found {search2} {total2} times')"
   ]
  },
  {
   "cell_type": "code",
   "execution_count": 17,
   "metadata": {},
   "outputs": [
    {
     "data": {
      "text/plain": [
       "'this is a test only a test'"
      ]
     },
     "execution_count": 17,
     "metadata": {},
     "output_type": "execute_result"
    }
   ],
   "source": [
    "s"
   ]
  },
  {
   "cell_type": "code",
   "execution_count": null,
   "metadata": {},
   "outputs": [],
   "source": [
    "s = 'abcd efgh ijkl'"
   ]
  }
 ],
 "metadata": {
  "kernelspec": {
   "display_name": "Python 3",
   "language": "python",
   "name": "python3"
  },
  "language_info": {
   "codemirror_mode": {
    "name": "ipython",
    "version": 3
   },
   "file_extension": ".py",
   "mimetype": "text/x-python",
   "name": "python",
   "nbconvert_exporter": "python",
   "pygments_lexer": "ipython3",
   "version": "3.7.7"
  }
 },
 "nbformat": 4,
 "nbformat_minor": 2
}
