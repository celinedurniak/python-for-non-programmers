{
 "cells": [
  {
   "cell_type": "code",
   "execution_count": null,
   "metadata": {},
   "outputs": [],
   "source": [
    "#     Create a list containing words (i.e., strings). Ask the user to\n",
    "#     enter a search string. Print all of the words in that list\n",
    "#     containing the user’s input.\n",
    "\n",
    "words = ['this', 'is', 'a', 'bunch', 'of', 'words', 'for',\n",
    "        'my', 'class']\n",
    "\n",
    "search_string = input(\"Enter a search string: \").strip()\n",
    "\n",
    "if sea"
   ]
  },
  {
   "cell_type": "code",
   "execution_count": null,
   "metadata": {},
   "outputs": [],
   "source": [
    "#     Create an empty list. Ask the user to enter inputs, one at a\n",
    "#     time. If the user enters an empty string, stop asking. If the user\n",
    "#     enters something that can be turned into an integer, then do\n",
    "#     so. After exiting from the loop, print (1) the average value in\n",
    "#     the list, (2) the values that are below the average, and (3) the\n",
    "#     values that are above the average. Note: Don’t use the sum\n",
    "#     function here; I want you to get even more practice with loops!\n",
    "\n",
    "#     Ask the user to enter a string. Then ask the user to enter two\n",
    "#     search strings. Print how many times each of the search strings\n",
    "#     appears in the user’s input string. So if the string is this is a\n",
    "#     test and the search strings are i and s, then the program should\n",
    "#     say that i was found 2 times and s was found 3 times.\n",
    "# # "
   ]
  }
 ],
 "metadata": {
  "kernelspec": {
   "display_name": "Python 3",
   "language": "python",
   "name": "python3"
  },
  "language_info": {
   "codemirror_mode": {
    "name": "ipython",
    "version": 3
   },
   "file_extension": ".py",
   "mimetype": "text/x-python",
   "name": "python",
   "nbconvert_exporter": "python",
   "pygments_lexer": "ipython3",
   "version": "3.7.7"
  }
 },
 "nbformat": 4,
 "nbformat_minor": 2
}
