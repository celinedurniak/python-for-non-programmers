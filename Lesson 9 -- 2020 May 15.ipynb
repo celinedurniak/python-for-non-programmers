{
 "cells": [
  {
   "cell_type": "markdown",
   "metadata": {},
   "source": [
    ".     We have previously written a program that takes a single word from the user and translates it into Pig Latin. I now want you to take an entire sentence from the user (all lower-case letters, and without punctuation) and print the translation of each word into Pig Latin. So if the user enters this is a test, the output will be histay isway away esttay."
   ]
  },
  {
   "cell_type": "code",
   "execution_count": 5,
   "metadata": {},
   "outputs": [
    {
     "name": "stdout",
     "output_type": "stream",
     "text": [
      "Enter a sentence: this is a test\n",
      "histay isway away esttay\n"
     ]
    }
   ],
   "source": [
    "sentence = input(\"Enter a sentence: \").strip()\n",
    "all_words = sentence.split()\n",
    "\n",
    "output = []\n",
    "for word in all_words:\n",
    "    if word[0] in 'aeiou':\n",
    "        output.append(f'{word}way')\n",
    "    else:\n",
    "        output.append(f'{word[1:]}{word[0]}ay')\n",
    "print(' '.join(output))"
   ]
  },
  {
   "cell_type": "code",
   "execution_count": null,
   "metadata": {},
   "outputs": [],
   "source": [
    "sentence = input(\"Enter a sentence: \").strip()\n",
    "\n",
    "output = []\n",
    "for word in sentence.split():\n",
    "    if word[0] in 'aeiou':\n",
    "        output.append(f'{word}way')\n",
    "    else:\n",
    "        output.append(f'{word[1:]}{word[0]}ay')\n",
    "print(' '.join(output))"
   ]
  },
  {
   "cell_type": "code",
   "execution_count": 6,
   "metadata": {},
   "outputs": [
    {
     "name": "stdout",
     "output_type": "stream",
     "text": [
      "Enter a sentence: this is a test\n",
      "histay isway away esttay\n"
     ]
    }
   ],
   "source": [
    "all_words = input(\"Enter a sentence: \").split()\n",
    "\n",
    "output = []\n",
    "for word in all_words:\n",
    "    if word[0] in 'aeiou':\n",
    "        output.append(f'{word}way')\n",
    "    else:\n",
    "        output.append(f'{word[1:]}{word[0]}ay')\n",
    "print(' '.join(output))"
   ]
  },
  {
   "cell_type": "code",
   "execution_count": null,
   "metadata": {},
   "outputs": [],
   "source": [
    "output = []\n",
    "for word in input(\"Enter a sentence: \").split():\n",
    "    if word[0] in 'aeiou':\n",
    "        output.append(f'{word}way')\n",
    "    else:\n",
    "        output.append(f'{word[1:]}{word[0]}ay')\n",
    "print(' '.join(output))"
   ]
  },
  {
   "cell_type": "markdown",
   "metadata": {},
   "source": [
    ".     Ask the user to enter several words separated by whitespace. Print those words separated by * characters. So if the user enters this is a test, the program should print this*is*a*test. You should not use str.replace, but rather str.split and str.join."
   ]
  },
  {
   "cell_type": "code",
   "execution_count": 9,
   "metadata": {},
   "outputs": [
    {
     "name": "stdout",
     "output_type": "stream",
     "text": [
      "Enter a sentence: this        is  a    test\n",
      "this*is*a*test\n"
     ]
    }
   ],
   "source": [
    "s = input(\"Enter a sentence: \").strip()\n",
    "\n",
    "words = s.split()\n",
    "print('*'.join(words))"
   ]
  },
  {
   "cell_type": "code",
   "execution_count": 11,
   "metadata": {},
   "outputs": [
    {
     "name": "stdout",
     "output_type": "stream",
     "text": [
      "Enter a sentence: this is a better test\n",
      "this*is*a*better*test\n"
     ]
    }
   ],
   "source": [
    "s = input(\"Enter a sentence: \").strip()\n",
    "\n",
    "print('*'.join(s.split()))"
   ]
  },
  {
   "cell_type": "code",
   "execution_count": null,
   "metadata": {},
   "outputs": [],
   "source": [
    "# strip -- removes whitespace from the edges of a string, and returns a new string\n",
    "# split -- returns a list of strings, based on a string\n"
   ]
  },
  {
   "cell_type": "markdown",
   "metadata": {},
   "source": [
    ".     Ask the user to enter numbers, separated by spaces, on a single line. Append each number to one of two lists, evens or odds. Then print the even numbers, one per line (i.e., \\n characters between each) and then the odd numbers, one per line. This will require not just str.join and str.split, but also some moving between int and str, so you have been warned!"
   ]
  },
  {
   "cell_type": "code",
   "execution_count": 12,
   "metadata": {},
   "outputs": [
    {
     "name": "stdout",
     "output_type": "stream",
     "text": [
      "Enter numbers, separated by spaces: 10 11 12 abcd 13 1a 14 15\n",
      "abcd is not numeric; ignoring\n",
      "1a is not numeric; ignoring\n"
     ]
    }
   ],
   "source": [
    "evens = []\n",
    "odds = []\n",
    "\n",
    "numbers = input(\"Enter numbers, separated by spaces: \").split()\n",
    "\n",
    "for one_number in numbers:\n",
    "    if not one_number.isdigit():\n",
    "        print(f'{one_number} is not numeric; ignoring')\n",
    "        continue\n",
    "        \n",
    "    one_number = int(one_number)\n",
    "    \n",
    "    if one_number % 2 == 0:\n",
    "        evens.append(one_number)\n",
    "    else:\n",
    "        odds.append(one_number)\n",
    "        \n"
   ]
  },
  {
   "cell_type": "code",
   "execution_count": 13,
   "metadata": {},
   "outputs": [
    {
     "data": {
      "text/plain": [
       "[10, 12, 14]"
      ]
     },
     "execution_count": 13,
     "metadata": {},
     "output_type": "execute_result"
    }
   ],
   "source": [
    "evens"
   ]
  },
  {
   "cell_type": "code",
   "execution_count": 14,
   "metadata": {},
   "outputs": [
    {
     "data": {
      "text/plain": [
       "[11, 13, 15]"
      ]
     },
     "execution_count": 14,
     "metadata": {},
     "output_type": "execute_result"
    }
   ],
   "source": [
    "odds"
   ]
  },
  {
   "cell_type": "code",
   "execution_count": null,
   "metadata": {},
   "outputs": [],
   "source": []
  }
 ],
 "metadata": {
  "kernelspec": {
   "display_name": "Python 3",
   "language": "python",
   "name": "python3"
  },
  "language_info": {
   "codemirror_mode": {
    "name": "ipython",
    "version": 3
   },
   "file_extension": ".py",
   "mimetype": "text/x-python",
   "name": "python",
   "nbconvert_exporter": "python",
   "pygments_lexer": "ipython3",
   "version": "3.7.7"
  }
 },
 "nbformat": 4,
 "nbformat_minor": 2
}
