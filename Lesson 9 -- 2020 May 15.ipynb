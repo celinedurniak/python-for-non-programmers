{
 "cells": [
  {
   "cell_type": "markdown",
   "metadata": {},
   "source": [
    ".     We have previously written a program that takes a single word from the user and translates it into Pig Latin. I now want you to take an entire sentence from the user (all lower-case letters, and without punctuation) and print the translation of each word into Pig Latin. So if the user enters this is a test, the output will be histay isway away esttay."
   ]
  },
  {
   "cell_type": "code",
   "execution_count": 2,
   "metadata": {},
   "outputs": [
    {
     "name": "stdout",
     "output_type": "stream",
     "text": [
      "Enter a word: table\n",
      "abletay\n"
     ]
    }
   ],
   "source": [
    "word = input(\"Enter a word: \").strip()\n",
    "\n",
    "if word[0] in 'aeiou':\n",
    "    print(f'{word}way')\n",
    "else:\n",
    "    print(f'{word[1:]}{word[0]}ay')"
   ]
  },
  {
   "cell_type": "markdown",
   "metadata": {},
   "source": [
    ".     Ask the user to enter several words separated by whitespace. Print those words separated by * characters. So if the user enters this is a test, the program should print this*is*a*test. You should not use str.replace, but rather str.split and str.join."
   ]
  },
  {
   "cell_type": "markdown",
   "metadata": {},
   "source": [
    ".     Ask the user to enter numbers, separated by spaces, on a single line. Append each number to one of two lists, evens or odds. Then print the even numbers, one per line (i.e., \\n characters between each) and then the odd numbers, one per line. This will require not just str.join and str.split, but also some moving between int and str, so you have been warned!"
   ]
  },
  {
   "cell_type": "code",
   "execution_count": null,
   "metadata": {},
   "outputs": [],
   "source": []
  }
 ],
 "metadata": {
  "kernelspec": {
   "display_name": "Python 3",
   "language": "python",
   "name": "python3"
  },
  "language_info": {
   "codemirror_mode": {
    "name": "ipython",
    "version": 3
   },
   "file_extension": ".py",
   "mimetype": "text/x-python",
   "name": "python",
   "nbconvert_exporter": "python",
   "pygments_lexer": "ipython3",
   "version": "3.7.7"
  }
 },
 "nbformat": 4,
 "nbformat_minor": 2
}
